{
 "cells": [
  {
   "cell_type": "markdown",
   "metadata": {
    "id": "6CNeCjDXfyix"
   },
   "source": [
    "## Final Project Part A\n",
    "**Group:7** <br>\n",
    "**Members: Chi-Hao Tseng, Hanyu Li, Raghul Balamurugan, Shubhangkar Girish Jain, Tanvi Mehra**<br>\n",
    "**Course: BUDT 758I**<br>\n",
    "**Date: 12/04/22**<br>"
   ]
  },
  {
   "cell_type": "markdown",
   "metadata": {},
   "source": [
    "### Objective: Construct a high-Sharpe portfolio of 8 chosen instruments.\n",
    "\n",
    "This notebook includes steps and results from question 1 to 12. The findings and explanation will be presented in class. The following steps will be performed:\n",
    "- Upload the supplied data file which contains close price data from 12/31/1999 through 12/31/2018 for\n",
    "    - 6 equity instruments: AAPL, AMZN, ATT, GE, Intel (INTC) and SPY\n",
    "    - 1 fixed income instrument: BOND\n",
    "    - 2 commodity instruments: Gold and Silver\n",
    "    - 2 currency pairs: EUR-USD and AUD-USD\n",
    "- Choose any 5 equity instruments, Bond, 1 of the 2 commodity instruments, and 1 of the 2 currency pairs by either choose\n",
    "    - the instrument itself\n",
    "    - the MA crossover strategy which goes “flat” \n",
    "    - the MA crossover strategy which goes “short”\n",
    "    - the 20-day/2-stdev band Bollinger Band strategy\n",
    "- Run a Mean-Variance optimization to the choices to determine the weights for each instrument using 5,000-step Monte Carlo simulation.\n",
    "- Plot the risk-return scatterplot of all 5,000 portfolios, including a colorbar based on Sharpe ratio and use the reverse colormap.\n",
    "- Mark the minimum vol portfolio with a blue star and present the weights of the portfolio. Note down the risk, return, and Sharpe of the portfolio.\n",
    "- Mark the maximum Sharpe portfolio with a red star and present the weights of the portfolio. Note down the risk, return, and Sharpe of the portfolio.\n",
    "- Construct a legend for these 2 stars and include in the legend the x-value (risk), y-value (return), and the Sharpe ratio.\n",
    "- Construct an equal-weighted portfolio of the chosen instruments, calculate its Sharpe and compare it with the maximum high-Sharpe portfolio.\n",
    "- Calculate the beta of the maximum high-Sharpe portfolio, which should obtain a low beta.\n",
    "- Rerun three variations of the Mean Variance optimization where the instruments are:\n",
    "    - a. All benchmarks\n",
    "    - b. MA strategy on all the instruments. Note down the Sharpe of the maximum-Sharpe MA strategy portfolio. \n",
    "    - c. Bollinger band strategy on all the instruments. Note down the maximum Sharpe.\n",
    "- Compare these three portfolios to the maximum high-Sharpe portfolio to see which outperforms. \n",
    "- Finally, display in a single table the summary statistics of all the portfolio components and the total portfolio. Explain the salient features of the table. "
   ]
  },
  {
   "cell_type": "markdown",
   "metadata": {},
   "source": [
    "### Imports and Function Definitions"
   ]
  },
  {
   "cell_type": "code",
   "execution_count": 1,
   "metadata": {
    "id": "2BYUZ07lfyi0"
   },
   "outputs": [],
   "source": [
    "# import libraries\n",
    "import matplotlib.pyplot as plt\n",
    "import matplotlib.ticker as mtick\n",
    "import numpy as np\n",
    "import pandas as pd\n",
    "import scipy.stats as scs\n",
    "import statsmodels.api as sm\n",
    "from statsmodels.regression.rolling import RollingOLS\n",
    "import numpy as np\n",
    "import pandas as pd\n",
    "import scipy.stats as scs\n",
    "from sklearn.linear_model import LinearRegression\n",
    "%matplotlib inline\n",
    "\n",
    "\n",
    "# universal plot dimensions we will use as the figsize argument for all plots\n",
    "aspect_ratio=(8,5)\n",
    "pct_format_4d = '{:.4%}'\n",
    "pct_format_2d = '{:.2%}'\n",
    "annualization_factor=260"
   ]
  },
  {
   "cell_type": "code",
   "execution_count": 2,
   "metadata": {
    "id": "QhpgpgEOfyi1"
   },
   "outputs": [],
   "source": [
    "# data frame \"pretty print\" function to print percentages. There are some optional parameters\n",
    "def print_data_frame_pct (dF, pct_format=pct_format_4d, nan='NaN', indexSlice=pd.IndexSlice[:,:]):\n",
    "    display(dF.style.format(pct_format, na_rep=nan, subset=indexSlice))\n",
    "\n",
    "# calculate (and print) the summary statistics table\n",
    "def calc_summary_stats(dF, af=annualization_factor, pct_format=pct_format_2d):\n",
    "    cumRtns = dF.cumsum()\n",
    "    summary_stats = pd.DataFrame([af*dF.mean(),\n",
    "                                  np.sqrt(af)*dF.std(),\n",
    "                                  np.sqrt(af) * dF.mean() / dF.std(),\n",
    "                                  (cumRtns - np.maximum.accumulate(cumRtns)).min(axis=0),\n",
    "                                  (dF >= 0).sum() / dF.shape[0]\n",
    "                                 ],\n",
    "                                 index=['Average Annual Return', 'Annual Risk', 'Sharpe Ratio', 'maxDD', 'Success Ratio']\n",
    "                                )\n",
    "    print_data_frame_pct(summary_stats, pct_format=pct_format, indexSlice=pd.IndexSlice[['Average Annual Return', 'Annual Risk', 'maxDD', 'Success Ratio'], :])\n",
    "    #return summary_stats\n",
    "\n",
    "def read_data_frame(filename, index_col=0, parse_dates=True):\n",
    "    dF = pd.read_csv(filename, index_col=index_col, parse_dates=parse_dates)\n",
    "    print('\\n1)','INFO')\n",
    "    dF.info() # print info\n",
    "    print('\\n2)', 'ANY NULL VALUES?')\n",
    "    print(dF.isnull().sum()) # check if any null values\n",
    "    print('\\n3)', 'SUMMARY STATISTICS')\n",
    "    display(dF.describe()) # print summary statistics\n",
    "    display(dF) # eyeball the full dF and then return it\n",
    "    return dF\n"
   ]
  },
  {
   "cell_type": "markdown",
   "metadata": {
    "id": "IpCRtXzFfyi2"
   },
   "source": [
    "### Load the Prices Data"
   ]
  },
  {
   "cell_type": "code",
   "execution_count": 3,
   "metadata": {
    "id": "mW2x_f6Yfyi2",
    "outputId": "2a6588bc-dab2-4e5e-969b-396582af9a28"
   },
   "outputs": [
    {
     "name": "stdout",
     "output_type": "stream",
     "text": [
      "\n",
      "1) INFO\n",
      "<class 'pandas.core.frame.DataFrame'>\n",
      "DatetimeIndex: 4745 entries, 1999-12-31 to 2018-12-31\n",
      "Data columns (total 11 columns):\n",
      " #   Column  Non-Null Count  Dtype  \n",
      "---  ------  --------------  -----  \n",
      " 0   AAPL    4745 non-null   float64\n",
      " 1   AMZN    4745 non-null   float64\n",
      " 2   ATT     4745 non-null   float64\n",
      " 3   AUD     4745 non-null   float64\n",
      " 4   BOND    4745 non-null   float64\n",
      " 5   EUR     4745 non-null   float64\n",
      " 6   GE      4745 non-null   float64\n",
      " 7   GOLD    4745 non-null   float64\n",
      " 8   INTC    4745 non-null   float64\n",
      " 9   SILVER  4745 non-null   float64\n",
      " 10  SPY     4745 non-null   float64\n",
      "dtypes: float64(11)\n",
      "memory usage: 444.8 KB\n",
      "\n",
      "2) ANY NULL VALUES?\n",
      "AAPL      0\n",
      "AMZN      0\n",
      "ATT       0\n",
      "AUD       0\n",
      "BOND      0\n",
      "EUR       0\n",
      "GE        0\n",
      "GOLD      0\n",
      "INTC      0\n",
      "SILVER    0\n",
      "SPY       0\n",
      "dtype: int64\n",
      "\n",
      "3) SUMMARY STATISTICS\n"
     ]
    },
    {
     "data": {
      "text/html": [
       "<div>\n",
       "<style scoped>\n",
       "    .dataframe tbody tr th:only-of-type {\n",
       "        vertical-align: middle;\n",
       "    }\n",
       "\n",
       "    .dataframe tbody tr th {\n",
       "        vertical-align: top;\n",
       "    }\n",
       "\n",
       "    .dataframe thead th {\n",
       "        text-align: right;\n",
       "    }\n",
       "</style>\n",
       "<table border=\"1\" class=\"dataframe\">\n",
       "  <thead>\n",
       "    <tr style=\"text-align: right;\">\n",
       "      <th></th>\n",
       "      <th>AAPL</th>\n",
       "      <th>AMZN</th>\n",
       "      <th>ATT</th>\n",
       "      <th>AUD</th>\n",
       "      <th>BOND</th>\n",
       "      <th>EUR</th>\n",
       "      <th>GE</th>\n",
       "      <th>GOLD</th>\n",
       "      <th>INTC</th>\n",
       "      <th>SILVER</th>\n",
       "      <th>SPY</th>\n",
       "    </tr>\n",
       "  </thead>\n",
       "  <tbody>\n",
       "    <tr>\n",
       "      <th>count</th>\n",
       "      <td>4745.000000</td>\n",
       "      <td>4745.000000</td>\n",
       "      <td>4745.000000</td>\n",
       "      <td>4745.000000</td>\n",
       "      <td>4745.000000</td>\n",
       "      <td>4745.000000</td>\n",
       "      <td>4745.000000</td>\n",
       "      <td>4745.000000</td>\n",
       "      <td>4745.000000</td>\n",
       "      <td>4745.000000</td>\n",
       "      <td>4745.000000</td>\n",
       "    </tr>\n",
       "    <tr>\n",
       "      <th>mean</th>\n",
       "      <td>12.906481</td>\n",
       "      <td>14.276243</td>\n",
       "      <td>24.837516</td>\n",
       "      <td>0.784642</td>\n",
       "      <td>1002.848125</td>\n",
       "      <td>1.214517</td>\n",
       "      <td>217.450605</td>\n",
       "      <td>910.952462</td>\n",
       "      <td>28.220152</td>\n",
       "      <td>14.879354</td>\n",
       "      <td>150.594514</td>\n",
       "    </tr>\n",
       "    <tr>\n",
       "      <th>std</th>\n",
       "      <td>13.980654</td>\n",
       "      <td>20.515985</td>\n",
       "      <td>5.171241</td>\n",
       "      <td>0.151062</td>\n",
       "      <td>76.259687</td>\n",
       "      <td>0.169549</td>\n",
       "      <td>78.177993</td>\n",
       "      <td>463.432487</td>\n",
       "      <td>10.666220</td>\n",
       "      <td>8.763344</td>\n",
       "      <td>50.893894</td>\n",
       "    </tr>\n",
       "    <tr>\n",
       "      <th>min</th>\n",
       "      <td>0.234286</td>\n",
       "      <td>0.298500</td>\n",
       "      <td>14.607251</td>\n",
       "      <td>0.479000</td>\n",
       "      <td>790.241628</td>\n",
       "      <td>0.827200</td>\n",
       "      <td>51.230770</td>\n",
       "      <td>255.550000</td>\n",
       "      <td>12.080000</td>\n",
       "      <td>4.060000</td>\n",
       "      <td>68.110001</td>\n",
       "    </tr>\n",
       "    <tr>\n",
       "      <th>25%</th>\n",
       "      <td>1.089286</td>\n",
       "      <td>1.973500</td>\n",
       "      <td>20.037764</td>\n",
       "      <td>0.707200</td>\n",
       "      <td>957.942747</td>\n",
       "      <td>1.112800</td>\n",
       "      <td>155.384613</td>\n",
       "      <td>418.350000</td>\n",
       "      <td>21.080000</td>\n",
       "      <td>6.805000</td>\n",
       "      <td>114.570000</td>\n",
       "    </tr>\n",
       "    <tr>\n",
       "      <th>50%</th>\n",
       "      <td>6.513214</td>\n",
       "      <td>4.441000</td>\n",
       "      <td>25.188822</td>\n",
       "      <td>0.766700</td>\n",
       "      <td>1003.602410</td>\n",
       "      <td>1.235500</td>\n",
       "      <td>215.692307</td>\n",
       "      <td>954.950000</td>\n",
       "      <td>25.230000</td>\n",
       "      <td>14.666000</td>\n",
       "      <td>133.779999</td>\n",
       "    </tr>\n",
       "    <tr>\n",
       "      <th>75%</th>\n",
       "      <td>22.629999</td>\n",
       "      <td>16.110001</td>\n",
       "      <td>28.429003</td>\n",
       "      <td>0.903000</td>\n",
       "      <td>1065.474821</td>\n",
       "      <td>1.336800</td>\n",
       "      <td>264.461548</td>\n",
       "      <td>1277.980000</td>\n",
       "      <td>32.799999</td>\n",
       "      <td>18.310500</td>\n",
       "      <td>186.309998</td>\n",
       "    </tr>\n",
       "    <tr>\n",
       "      <th>max</th>\n",
       "      <td>58.017502</td>\n",
       "      <td>101.975502</td>\n",
       "      <td>44.184292</td>\n",
       "      <td>1.102000</td>\n",
       "      <td>1128.970002</td>\n",
       "      <td>1.599100</td>\n",
       "      <td>461.538452</td>\n",
       "      <td>1897.460000</td>\n",
       "      <td>74.875000</td>\n",
       "      <td>48.443800</td>\n",
       "      <td>293.579987</td>\n",
       "    </tr>\n",
       "  </tbody>\n",
       "</table>\n",
       "</div>"
      ],
      "text/plain": [
       "              AAPL         AMZN          ATT          AUD         BOND  \\\n",
       "count  4745.000000  4745.000000  4745.000000  4745.000000  4745.000000   \n",
       "mean     12.906481    14.276243    24.837516     0.784642  1002.848125   \n",
       "std      13.980654    20.515985     5.171241     0.151062    76.259687   \n",
       "min       0.234286     0.298500    14.607251     0.479000   790.241628   \n",
       "25%       1.089286     1.973500    20.037764     0.707200   957.942747   \n",
       "50%       6.513214     4.441000    25.188822     0.766700  1003.602410   \n",
       "75%      22.629999    16.110001    28.429003     0.903000  1065.474821   \n",
       "max      58.017502   101.975502    44.184292     1.102000  1128.970002   \n",
       "\n",
       "               EUR           GE         GOLD         INTC       SILVER  \\\n",
       "count  4745.000000  4745.000000  4745.000000  4745.000000  4745.000000   \n",
       "mean      1.214517   217.450605   910.952462    28.220152    14.879354   \n",
       "std       0.169549    78.177993   463.432487    10.666220     8.763344   \n",
       "min       0.827200    51.230770   255.550000    12.080000     4.060000   \n",
       "25%       1.112800   155.384613   418.350000    21.080000     6.805000   \n",
       "50%       1.235500   215.692307   954.950000    25.230000    14.666000   \n",
       "75%       1.336800   264.461548  1277.980000    32.799999    18.310500   \n",
       "max       1.599100   461.538452  1897.460000    74.875000    48.443800   \n",
       "\n",
       "               SPY  \n",
       "count  4745.000000  \n",
       "mean    150.594514  \n",
       "std      50.893894  \n",
       "min      68.110001  \n",
       "25%     114.570000  \n",
       "50%     133.779999  \n",
       "75%     186.309998  \n",
       "max     293.579987  "
      ]
     },
     "metadata": {},
     "output_type": "display_data"
    },
    {
     "data": {
      "text/html": [
       "<div>\n",
       "<style scoped>\n",
       "    .dataframe tbody tr th:only-of-type {\n",
       "        vertical-align: middle;\n",
       "    }\n",
       "\n",
       "    .dataframe tbody tr th {\n",
       "        vertical-align: top;\n",
       "    }\n",
       "\n",
       "    .dataframe thead th {\n",
       "        text-align: right;\n",
       "    }\n",
       "</style>\n",
       "<table border=\"1\" class=\"dataframe\">\n",
       "  <thead>\n",
       "    <tr style=\"text-align: right;\">\n",
       "      <th></th>\n",
       "      <th>AAPL</th>\n",
       "      <th>AMZN</th>\n",
       "      <th>ATT</th>\n",
       "      <th>AUD</th>\n",
       "      <th>BOND</th>\n",
       "      <th>EUR</th>\n",
       "      <th>GE</th>\n",
       "      <th>GOLD</th>\n",
       "      <th>INTC</th>\n",
       "      <th>SILVER</th>\n",
       "      <th>SPY</th>\n",
       "    </tr>\n",
       "  </thead>\n",
       "  <tbody>\n",
       "    <tr>\n",
       "      <th>1999-12-31</th>\n",
       "      <td>0.917969</td>\n",
       "      <td>3.806250</td>\n",
       "      <td>36.820244</td>\n",
       "      <td>0.6567</td>\n",
       "      <td>798.154631</td>\n",
       "      <td>1.0062</td>\n",
       "      <td>396.794861</td>\n",
       "      <td>288.00</td>\n",
       "      <td>41.156250</td>\n",
       "      <td>5.3800</td>\n",
       "      <td>146.875000</td>\n",
       "    </tr>\n",
       "    <tr>\n",
       "      <th>2000-01-03</th>\n",
       "      <td>0.999442</td>\n",
       "      <td>4.468750</td>\n",
       "      <td>35.498489</td>\n",
       "      <td>0.6585</td>\n",
       "      <td>793.868670</td>\n",
       "      <td>1.0243</td>\n",
       "      <td>384.615387</td>\n",
       "      <td>289.00</td>\n",
       "      <td>43.500000</td>\n",
       "      <td>5.4050</td>\n",
       "      <td>145.437500</td>\n",
       "    </tr>\n",
       "    <tr>\n",
       "      <th>2000-01-04</th>\n",
       "      <td>0.915179</td>\n",
       "      <td>4.096875</td>\n",
       "      <td>33.421452</td>\n",
       "      <td>0.6550</td>\n",
       "      <td>796.761677</td>\n",
       "      <td>1.0296</td>\n",
       "      <td>369.230774</td>\n",
       "      <td>282.25</td>\n",
       "      <td>41.468750</td>\n",
       "      <td>5.3250</td>\n",
       "      <td>139.750000</td>\n",
       "    </tr>\n",
       "    <tr>\n",
       "      <th>2000-01-05</th>\n",
       "      <td>0.928571</td>\n",
       "      <td>3.487500</td>\n",
       "      <td>33.940708</td>\n",
       "      <td>0.6579</td>\n",
       "      <td>793.118215</td>\n",
       "      <td>1.0321</td>\n",
       "      <td>368.589752</td>\n",
       "      <td>280.00</td>\n",
       "      <td>41.812500</td>\n",
       "      <td>5.1450</td>\n",
       "      <td>140.000000</td>\n",
       "    </tr>\n",
       "    <tr>\n",
       "      <th>2000-01-06</th>\n",
       "      <td>0.848214</td>\n",
       "      <td>3.278125</td>\n",
       "      <td>33.043808</td>\n",
       "      <td>0.6533</td>\n",
       "      <td>795.091984</td>\n",
       "      <td>1.0328</td>\n",
       "      <td>373.517639</td>\n",
       "      <td>281.10</td>\n",
       "      <td>39.375000</td>\n",
       "      <td>5.1200</td>\n",
       "      <td>137.750000</td>\n",
       "    </tr>\n",
       "    <tr>\n",
       "      <th>...</th>\n",
       "      <td>...</td>\n",
       "      <td>...</td>\n",
       "      <td>...</td>\n",
       "      <td>...</td>\n",
       "      <td>...</td>\n",
       "      <td>...</td>\n",
       "      <td>...</td>\n",
       "      <td>...</td>\n",
       "      <td>...</td>\n",
       "      <td>...</td>\n",
       "      <td>...</td>\n",
       "    </tr>\n",
       "    <tr>\n",
       "      <th>2018-12-24</th>\n",
       "      <td>36.707500</td>\n",
       "      <td>67.197998</td>\n",
       "      <td>20.664654</td>\n",
       "      <td>0.7049</td>\n",
       "      <td>998.805410</td>\n",
       "      <td>1.1406</td>\n",
       "      <td>53.230770</td>\n",
       "      <td>1269.22</td>\n",
       "      <td>43.590000</td>\n",
       "      <td>14.7750</td>\n",
       "      <td>234.339996</td>\n",
       "    </tr>\n",
       "    <tr>\n",
       "      <th>2018-12-26</th>\n",
       "      <td>39.292500</td>\n",
       "      <td>73.544998</td>\n",
       "      <td>21.208460</td>\n",
       "      <td>0.7066</td>\n",
       "      <td>996.301026</td>\n",
       "      <td>1.1353</td>\n",
       "      <td>56.846153</td>\n",
       "      <td>1267.14</td>\n",
       "      <td>46.189999</td>\n",
       "      <td>15.0355</td>\n",
       "      <td>246.179993</td>\n",
       "    </tr>\n",
       "    <tr>\n",
       "      <th>2018-12-27</th>\n",
       "      <td>39.037498</td>\n",
       "      <td>73.082001</td>\n",
       "      <td>21.261330</td>\n",
       "      <td>0.7033</td>\n",
       "      <td>998.396182</td>\n",
       "      <td>1.1430</td>\n",
       "      <td>55.923077</td>\n",
       "      <td>1275.71</td>\n",
       "      <td>46.360001</td>\n",
       "      <td>15.2275</td>\n",
       "      <td>248.070007</td>\n",
       "    </tr>\n",
       "    <tr>\n",
       "      <th>2018-12-28</th>\n",
       "      <td>39.057499</td>\n",
       "      <td>73.901001</td>\n",
       "      <td>21.495468</td>\n",
       "      <td>0.7047</td>\n",
       "      <td>998.680796</td>\n",
       "      <td>1.1444</td>\n",
       "      <td>57.769230</td>\n",
       "      <td>1280.71</td>\n",
       "      <td>46.750000</td>\n",
       "      <td>15.3839</td>\n",
       "      <td>247.750000</td>\n",
       "    </tr>\n",
       "    <tr>\n",
       "      <th>2018-12-31</th>\n",
       "      <td>39.435001</td>\n",
       "      <td>75.098503</td>\n",
       "      <td>21.555891</td>\n",
       "      <td>0.7049</td>\n",
       "      <td>1000.995080</td>\n",
       "      <td>1.1467</td>\n",
       "      <td>58.230770</td>\n",
       "      <td>1282.49</td>\n",
       "      <td>46.930000</td>\n",
       "      <td>15.4950</td>\n",
       "      <td>249.919998</td>\n",
       "    </tr>\n",
       "  </tbody>\n",
       "</table>\n",
       "<p>4745 rows × 11 columns</p>\n",
       "</div>"
      ],
      "text/plain": [
       "                 AAPL       AMZN        ATT     AUD         BOND     EUR  \\\n",
       "1999-12-31   0.917969   3.806250  36.820244  0.6567   798.154631  1.0062   \n",
       "2000-01-03   0.999442   4.468750  35.498489  0.6585   793.868670  1.0243   \n",
       "2000-01-04   0.915179   4.096875  33.421452  0.6550   796.761677  1.0296   \n",
       "2000-01-05   0.928571   3.487500  33.940708  0.6579   793.118215  1.0321   \n",
       "2000-01-06   0.848214   3.278125  33.043808  0.6533   795.091984  1.0328   \n",
       "...               ...        ...        ...     ...          ...     ...   \n",
       "2018-12-24  36.707500  67.197998  20.664654  0.7049   998.805410  1.1406   \n",
       "2018-12-26  39.292500  73.544998  21.208460  0.7066   996.301026  1.1353   \n",
       "2018-12-27  39.037498  73.082001  21.261330  0.7033   998.396182  1.1430   \n",
       "2018-12-28  39.057499  73.901001  21.495468  0.7047   998.680796  1.1444   \n",
       "2018-12-31  39.435001  75.098503  21.555891  0.7049  1000.995080  1.1467   \n",
       "\n",
       "                    GE     GOLD       INTC   SILVER         SPY  \n",
       "1999-12-31  396.794861   288.00  41.156250   5.3800  146.875000  \n",
       "2000-01-03  384.615387   289.00  43.500000   5.4050  145.437500  \n",
       "2000-01-04  369.230774   282.25  41.468750   5.3250  139.750000  \n",
       "2000-01-05  368.589752   280.00  41.812500   5.1450  140.000000  \n",
       "2000-01-06  373.517639   281.10  39.375000   5.1200  137.750000  \n",
       "...                ...      ...        ...      ...         ...  \n",
       "2018-12-24   53.230770  1269.22  43.590000  14.7750  234.339996  \n",
       "2018-12-26   56.846153  1267.14  46.189999  15.0355  246.179993  \n",
       "2018-12-27   55.923077  1275.71  46.360001  15.2275  248.070007  \n",
       "2018-12-28   57.769230  1280.71  46.750000  15.3839  247.750000  \n",
       "2018-12-31   58.230770  1282.49  46.930000  15.4950  249.919998  \n",
       "\n",
       "[4745 rows x 11 columns]"
      ]
     },
     "metadata": {},
     "output_type": "display_data"
    }
   ],
   "source": [
    "df = read_data_frame('Prices.csv', index_col=[0])"
   ]
  },
  {
   "cell_type": "markdown",
   "metadata": {
    "id": "_hVyGmmYfyi3"
   },
   "source": [
    "### Strategy For Choosing the Instruments to Achieve High Sharpe\n",
    "- Any 5 equity instruments\n",
    "- 1 fixed income instrument (we only have one – BOND)\n",
    "- 1 of the 2 commodity instruments\n",
    "- 1 of the 2 currency pairs\n",
    "\n",
    "The possible stratergies for each instrument:\n",
    "\n",
    "    1. the instrument itself\n",
    "    2. the MA crossover strategy which goes “flat” \n",
    "    3. the MA crossover strategy which goes short \n",
    "    4. the 20-day/2-stdev band Bollinger Band strategy\n"
   ]
  },
  {
   "cell_type": "code",
   "execution_count": 4,
   "metadata": {
    "id": "awByoOq8fyi4",
    "outputId": "bc6cb13f-6d4a-4057-f568-a3dc6a66f7c2"
   },
   "outputs": [
    {
     "data": {
      "text/html": [
       "<div>\n",
       "<style scoped>\n",
       "    .dataframe tbody tr th:only-of-type {\n",
       "        vertical-align: middle;\n",
       "    }\n",
       "\n",
       "    .dataframe tbody tr th {\n",
       "        vertical-align: top;\n",
       "    }\n",
       "\n",
       "    .dataframe thead th {\n",
       "        text-align: right;\n",
       "    }\n",
       "</style>\n",
       "<table border=\"1\" class=\"dataframe\">\n",
       "  <thead>\n",
       "    <tr style=\"text-align: right;\">\n",
       "      <th></th>\n",
       "      <th>GOLD</th>\n",
       "      <th>SILVER</th>\n",
       "    </tr>\n",
       "  </thead>\n",
       "  <tbody>\n",
       "    <tr>\n",
       "      <th>AAPL</th>\n",
       "      <td>0.701085</td>\n",
       "      <td>0.452274</td>\n",
       "    </tr>\n",
       "    <tr>\n",
       "      <th>AMZN</th>\n",
       "      <td>0.484129</td>\n",
       "      <td>0.230881</td>\n",
       "    </tr>\n",
       "    <tr>\n",
       "      <th>ATT</th>\n",
       "      <td>0.036682</td>\n",
       "      <td>0.006548</td>\n",
       "    </tr>\n",
       "    <tr>\n",
       "      <th>AUD</th>\n",
       "      <td>0.802430</td>\n",
       "      <td>0.882836</td>\n",
       "    </tr>\n",
       "    <tr>\n",
       "      <th>BOND</th>\n",
       "      <td>0.902058</td>\n",
       "      <td>0.817057</td>\n",
       "    </tr>\n",
       "    <tr>\n",
       "      <th>EUR</th>\n",
       "      <td>0.497148</td>\n",
       "      <td>0.573505</td>\n",
       "    </tr>\n",
       "    <tr>\n",
       "      <th>GE</th>\n",
       "      <td>-0.693182</td>\n",
       "      <td>-0.580315</td>\n",
       "    </tr>\n",
       "    <tr>\n",
       "      <th>GOLD</th>\n",
       "      <td>1.000000</td>\n",
       "      <td>0.921875</td>\n",
       "    </tr>\n",
       "    <tr>\n",
       "      <th>INTC</th>\n",
       "      <td>-0.036916</td>\n",
       "      <td>-0.169971</td>\n",
       "    </tr>\n",
       "    <tr>\n",
       "      <th>SILVER</th>\n",
       "      <td>0.921875</td>\n",
       "      <td>1.000000</td>\n",
       "    </tr>\n",
       "    <tr>\n",
       "      <th>SPY</th>\n",
       "      <td>0.485224</td>\n",
       "      <td>0.241094</td>\n",
       "    </tr>\n",
       "  </tbody>\n",
       "</table>\n",
       "</div>"
      ],
      "text/plain": [
       "            GOLD    SILVER\n",
       "AAPL    0.701085  0.452274\n",
       "AMZN    0.484129  0.230881\n",
       "ATT     0.036682  0.006548\n",
       "AUD     0.802430  0.882836\n",
       "BOND    0.902058  0.817057\n",
       "EUR     0.497148  0.573505\n",
       "GE     -0.693182 -0.580315\n",
       "GOLD    1.000000  0.921875\n",
       "INTC   -0.036916 -0.169971\n",
       "SILVER  0.921875  1.000000\n",
       "SPY     0.485224  0.241094"
      ]
     },
     "execution_count": 4,
     "metadata": {},
     "output_type": "execute_result"
    }
   ],
   "source": [
    "df_corr = df.corr()\n",
    "df_corr[['GOLD', 'SILVER']]"
   ]
  },
  {
   "cell_type": "code",
   "execution_count": 5,
   "metadata": {
    "id": "zaaLQRIrfyi5",
    "outputId": "cfe779c8-99d4-4e92-d46f-6805de9b94ec"
   },
   "outputs": [
    {
     "data": {
      "text/html": [
       "<div>\n",
       "<style scoped>\n",
       "    .dataframe tbody tr th:only-of-type {\n",
       "        vertical-align: middle;\n",
       "    }\n",
       "\n",
       "    .dataframe tbody tr th {\n",
       "        vertical-align: top;\n",
       "    }\n",
       "\n",
       "    .dataframe thead th {\n",
       "        text-align: right;\n",
       "    }\n",
       "</style>\n",
       "<table border=\"1\" class=\"dataframe\">\n",
       "  <thead>\n",
       "    <tr style=\"text-align: right;\">\n",
       "      <th></th>\n",
       "      <th>BOND</th>\n",
       "    </tr>\n",
       "  </thead>\n",
       "  <tbody>\n",
       "    <tr>\n",
       "      <th>AAPL</th>\n",
       "      <td>0.561623</td>\n",
       "    </tr>\n",
       "    <tr>\n",
       "      <th>AMZN</th>\n",
       "      <td>0.311235</td>\n",
       "    </tr>\n",
       "    <tr>\n",
       "      <th>ATT</th>\n",
       "      <td>-0.202729</td>\n",
       "    </tr>\n",
       "    <tr>\n",
       "      <th>AUD</th>\n",
       "      <td>0.793601</td>\n",
       "    </tr>\n",
       "    <tr>\n",
       "      <th>BOND</th>\n",
       "      <td>1.000000</td>\n",
       "    </tr>\n",
       "    <tr>\n",
       "      <th>EUR</th>\n",
       "      <td>0.568362</td>\n",
       "    </tr>\n",
       "    <tr>\n",
       "      <th>GE</th>\n",
       "      <td>-0.726823</td>\n",
       "    </tr>\n",
       "    <tr>\n",
       "      <th>GOLD</th>\n",
       "      <td>0.902058</td>\n",
       "    </tr>\n",
       "    <tr>\n",
       "      <th>INTC</th>\n",
       "      <td>-0.311982</td>\n",
       "    </tr>\n",
       "    <tr>\n",
       "      <th>SILVER</th>\n",
       "      <td>0.817057</td>\n",
       "    </tr>\n",
       "    <tr>\n",
       "      <th>SPY</th>\n",
       "      <td>0.313744</td>\n",
       "    </tr>\n",
       "  </tbody>\n",
       "</table>\n",
       "</div>"
      ],
      "text/plain": [
       "            BOND\n",
       "AAPL    0.561623\n",
       "AMZN    0.311235\n",
       "ATT    -0.202729\n",
       "AUD     0.793601\n",
       "BOND    1.000000\n",
       "EUR     0.568362\n",
       "GE     -0.726823\n",
       "GOLD    0.902058\n",
       "INTC   -0.311982\n",
       "SILVER  0.817057\n",
       "SPY     0.313744"
      ]
     },
     "execution_count": 5,
     "metadata": {},
     "output_type": "execute_result"
    }
   ],
   "source": [
    "df_corr[['BOND']]"
   ]
  },
  {
   "cell_type": "code",
   "execution_count": 6,
   "metadata": {
    "id": "IlyGZattfyi5",
    "outputId": "781965e8-6303-468b-a604-5030d7371167"
   },
   "outputs": [
    {
     "data": {
      "text/html": [
       "<div>\n",
       "<style scoped>\n",
       "    .dataframe tbody tr th:only-of-type {\n",
       "        vertical-align: middle;\n",
       "    }\n",
       "\n",
       "    .dataframe tbody tr th {\n",
       "        vertical-align: top;\n",
       "    }\n",
       "\n",
       "    .dataframe thead th {\n",
       "        text-align: right;\n",
       "    }\n",
       "</style>\n",
       "<table border=\"1\" class=\"dataframe\">\n",
       "  <thead>\n",
       "    <tr style=\"text-align: right;\">\n",
       "      <th></th>\n",
       "      <th>EUR</th>\n",
       "      <th>AUD</th>\n",
       "    </tr>\n",
       "  </thead>\n",
       "  <tbody>\n",
       "    <tr>\n",
       "      <th>AAPL</th>\n",
       "      <td>0.032889</td>\n",
       "      <td>0.283376</td>\n",
       "    </tr>\n",
       "    <tr>\n",
       "      <th>AMZN</th>\n",
       "      <td>-0.072115</td>\n",
       "      <td>0.066440</td>\n",
       "    </tr>\n",
       "    <tr>\n",
       "      <th>ATT</th>\n",
       "      <td>-0.380063</td>\n",
       "      <td>-0.163464</td>\n",
       "    </tr>\n",
       "    <tr>\n",
       "      <th>AUD</th>\n",
       "      <td>0.818306</td>\n",
       "      <td>1.000000</td>\n",
       "    </tr>\n",
       "    <tr>\n",
       "      <th>BOND</th>\n",
       "      <td>0.568362</td>\n",
       "      <td>0.793601</td>\n",
       "    </tr>\n",
       "    <tr>\n",
       "      <th>EUR</th>\n",
       "      <td>1.000000</td>\n",
       "      <td>0.818306</td>\n",
       "    </tr>\n",
       "    <tr>\n",
       "      <th>GE</th>\n",
       "      <td>-0.504132</td>\n",
       "      <td>-0.529598</td>\n",
       "    </tr>\n",
       "    <tr>\n",
       "      <th>GOLD</th>\n",
       "      <td>0.497148</td>\n",
       "      <td>0.802430</td>\n",
       "    </tr>\n",
       "    <tr>\n",
       "      <th>INTC</th>\n",
       "      <td>-0.482878</td>\n",
       "      <td>-0.287605</td>\n",
       "    </tr>\n",
       "    <tr>\n",
       "      <th>SILVER</th>\n",
       "      <td>0.573505</td>\n",
       "      <td>0.882836</td>\n",
       "    </tr>\n",
       "    <tr>\n",
       "      <th>SPY</th>\n",
       "      <td>-0.089758</td>\n",
       "      <td>0.112041</td>\n",
       "    </tr>\n",
       "  </tbody>\n",
       "</table>\n",
       "</div>"
      ],
      "text/plain": [
       "             EUR       AUD\n",
       "AAPL    0.032889  0.283376\n",
       "AMZN   -0.072115  0.066440\n",
       "ATT    -0.380063 -0.163464\n",
       "AUD     0.818306  1.000000\n",
       "BOND    0.568362  0.793601\n",
       "EUR     1.000000  0.818306\n",
       "GE     -0.504132 -0.529598\n",
       "GOLD    0.497148  0.802430\n",
       "INTC   -0.482878 -0.287605\n",
       "SILVER  0.573505  0.882836\n",
       "SPY    -0.089758  0.112041"
      ]
     },
     "execution_count": 6,
     "metadata": {},
     "output_type": "execute_result"
    }
   ],
   "source": [
    "df_corr[['EUR', 'AUD']]"
   ]
  },
  {
   "cell_type": "code",
   "execution_count": 7,
   "metadata": {
    "id": "vAWKX13jfyi6",
    "outputId": "05672e9a-a39e-4bbe-f6f0-e381a527554f"
   },
   "outputs": [
    {
     "data": {
      "text/html": [
       "<div>\n",
       "<style scoped>\n",
       "    .dataframe tbody tr th:only-of-type {\n",
       "        vertical-align: middle;\n",
       "    }\n",
       "\n",
       "    .dataframe tbody tr th {\n",
       "        vertical-align: top;\n",
       "    }\n",
       "\n",
       "    .dataframe thead th {\n",
       "        text-align: right;\n",
       "    }\n",
       "</style>\n",
       "<table border=\"1\" class=\"dataframe\">\n",
       "  <thead>\n",
       "    <tr style=\"text-align: right;\">\n",
       "      <th></th>\n",
       "      <th>AAPL</th>\n",
       "      <th>AMZN</th>\n",
       "      <th>ATT</th>\n",
       "      <th>GE</th>\n",
       "      <th>INTC</th>\n",
       "      <th>SPY</th>\n",
       "    </tr>\n",
       "  </thead>\n",
       "  <tbody>\n",
       "    <tr>\n",
       "      <th>AAPL</th>\n",
       "      <td>1.000000</td>\n",
       "      <td>0.918546</td>\n",
       "      <td>0.223635</td>\n",
       "      <td>-0.485758</td>\n",
       "      <td>0.440539</td>\n",
       "      <td>0.921152</td>\n",
       "    </tr>\n",
       "    <tr>\n",
       "      <th>AMZN</th>\n",
       "      <td>0.918546</td>\n",
       "      <td>1.000000</td>\n",
       "      <td>0.192351</td>\n",
       "      <td>-0.414315</td>\n",
       "      <td>0.534384</td>\n",
       "      <td>0.900240</td>\n",
       "    </tr>\n",
       "    <tr>\n",
       "      <th>ATT</th>\n",
       "      <td>0.223635</td>\n",
       "      <td>0.192351</td>\n",
       "      <td>1.000000</td>\n",
       "      <td>0.512619</td>\n",
       "      <td>0.518965</td>\n",
       "      <td>0.426352</td>\n",
       "    </tr>\n",
       "    <tr>\n",
       "      <th>AUD</th>\n",
       "      <td>0.283376</td>\n",
       "      <td>0.066440</td>\n",
       "      <td>-0.163464</td>\n",
       "      <td>-0.529598</td>\n",
       "      <td>-0.287605</td>\n",
       "      <td>0.112041</td>\n",
       "    </tr>\n",
       "    <tr>\n",
       "      <th>BOND</th>\n",
       "      <td>0.561623</td>\n",
       "      <td>0.311235</td>\n",
       "      <td>-0.202729</td>\n",
       "      <td>-0.726823</td>\n",
       "      <td>-0.311982</td>\n",
       "      <td>0.313744</td>\n",
       "    </tr>\n",
       "    <tr>\n",
       "      <th>EUR</th>\n",
       "      <td>0.032889</td>\n",
       "      <td>-0.072115</td>\n",
       "      <td>-0.380063</td>\n",
       "      <td>-0.504132</td>\n",
       "      <td>-0.482878</td>\n",
       "      <td>-0.089758</td>\n",
       "    </tr>\n",
       "    <tr>\n",
       "      <th>GE</th>\n",
       "      <td>-0.485758</td>\n",
       "      <td>-0.414315</td>\n",
       "      <td>0.512619</td>\n",
       "      <td>1.000000</td>\n",
       "      <td>0.298075</td>\n",
       "      <td>-0.166981</td>\n",
       "    </tr>\n",
       "    <tr>\n",
       "      <th>GOLD</th>\n",
       "      <td>0.701085</td>\n",
       "      <td>0.484129</td>\n",
       "      <td>0.036682</td>\n",
       "      <td>-0.693182</td>\n",
       "      <td>-0.036916</td>\n",
       "      <td>0.485224</td>\n",
       "    </tr>\n",
       "    <tr>\n",
       "      <th>INTC</th>\n",
       "      <td>0.440539</td>\n",
       "      <td>0.534384</td>\n",
       "      <td>0.518965</td>\n",
       "      <td>0.298075</td>\n",
       "      <td>1.000000</td>\n",
       "      <td>0.615894</td>\n",
       "    </tr>\n",
       "    <tr>\n",
       "      <th>SILVER</th>\n",
       "      <td>0.452274</td>\n",
       "      <td>0.230881</td>\n",
       "      <td>0.006548</td>\n",
       "      <td>-0.580315</td>\n",
       "      <td>-0.169971</td>\n",
       "      <td>0.241094</td>\n",
       "    </tr>\n",
       "    <tr>\n",
       "      <th>SPY</th>\n",
       "      <td>0.921152</td>\n",
       "      <td>0.900240</td>\n",
       "      <td>0.426352</td>\n",
       "      <td>-0.166981</td>\n",
       "      <td>0.615894</td>\n",
       "      <td>1.000000</td>\n",
       "    </tr>\n",
       "  </tbody>\n",
       "</table>\n",
       "</div>"
      ],
      "text/plain": [
       "            AAPL      AMZN       ATT        GE      INTC       SPY\n",
       "AAPL    1.000000  0.918546  0.223635 -0.485758  0.440539  0.921152\n",
       "AMZN    0.918546  1.000000  0.192351 -0.414315  0.534384  0.900240\n",
       "ATT     0.223635  0.192351  1.000000  0.512619  0.518965  0.426352\n",
       "AUD     0.283376  0.066440 -0.163464 -0.529598 -0.287605  0.112041\n",
       "BOND    0.561623  0.311235 -0.202729 -0.726823 -0.311982  0.313744\n",
       "EUR     0.032889 -0.072115 -0.380063 -0.504132 -0.482878 -0.089758\n",
       "GE     -0.485758 -0.414315  0.512619  1.000000  0.298075 -0.166981\n",
       "GOLD    0.701085  0.484129  0.036682 -0.693182 -0.036916  0.485224\n",
       "INTC    0.440539  0.534384  0.518965  0.298075  1.000000  0.615894\n",
       "SILVER  0.452274  0.230881  0.006548 -0.580315 -0.169971  0.241094\n",
       "SPY     0.921152  0.900240  0.426352 -0.166981  0.615894  1.000000"
      ]
     },
     "execution_count": 7,
     "metadata": {},
     "output_type": "execute_result"
    }
   ],
   "source": [
    "df_corr[['AAPL', 'AMZN', 'ATT', 'GE', 'INTC', 'SPY']]"
   ]
  },
  {
   "cell_type": "code",
   "execution_count": 8,
   "metadata": {
    "id": "Avryl4uufyi6",
    "outputId": "30510e98-bff9-4d89-c3ef-d651dbd8830a"
   },
   "outputs": [
    {
     "data": {
      "text/html": [
       "<div>\n",
       "<style scoped>\n",
       "    .dataframe tbody tr th:only-of-type {\n",
       "        vertical-align: middle;\n",
       "    }\n",
       "\n",
       "    .dataframe tbody tr th {\n",
       "        vertical-align: top;\n",
       "    }\n",
       "\n",
       "    .dataframe thead th {\n",
       "        text-align: right;\n",
       "    }\n",
       "</style>\n",
       "<table border=\"1\" class=\"dataframe\">\n",
       "  <thead>\n",
       "    <tr style=\"text-align: right;\">\n",
       "      <th></th>\n",
       "      <th>AAPL</th>\n",
       "      <th>AMZN</th>\n",
       "      <th>ATT</th>\n",
       "      <th>AUD</th>\n",
       "      <th>BOND</th>\n",
       "      <th>EUR</th>\n",
       "      <th>GE</th>\n",
       "      <th>GOLD</th>\n",
       "      <th>INTC</th>\n",
       "      <th>SILVER</th>\n",
       "      <th>SPY</th>\n",
       "    </tr>\n",
       "  </thead>\n",
       "  <tbody>\n",
       "    <tr>\n",
       "      <th>count</th>\n",
       "      <td>4745.000000</td>\n",
       "      <td>4745.000000</td>\n",
       "      <td>4745.000000</td>\n",
       "      <td>4745.000000</td>\n",
       "      <td>4745.000000</td>\n",
       "      <td>4745.000000</td>\n",
       "      <td>4745.000000</td>\n",
       "      <td>4745.000000</td>\n",
       "      <td>4745.000000</td>\n",
       "      <td>4745.000000</td>\n",
       "      <td>4745.000000</td>\n",
       "    </tr>\n",
       "    <tr>\n",
       "      <th>mean</th>\n",
       "      <td>0.000792</td>\n",
       "      <td>0.000628</td>\n",
       "      <td>-0.000113</td>\n",
       "      <td>0.000015</td>\n",
       "      <td>0.000048</td>\n",
       "      <td>0.000028</td>\n",
       "      <td>-0.000404</td>\n",
       "      <td>0.000315</td>\n",
       "      <td>0.000028</td>\n",
       "      <td>0.000223</td>\n",
       "      <td>0.000112</td>\n",
       "    </tr>\n",
       "    <tr>\n",
       "      <th>std</th>\n",
       "      <td>0.026857</td>\n",
       "      <td>0.033276</td>\n",
       "      <td>0.016508</td>\n",
       "      <td>0.008152</td>\n",
       "      <td>0.002324</td>\n",
       "      <td>0.006331</td>\n",
       "      <td>0.019491</td>\n",
       "      <td>0.011047</td>\n",
       "      <td>0.023566</td>\n",
       "      <td>0.018886</td>\n",
       "      <td>0.012167</td>\n",
       "    </tr>\n",
       "    <tr>\n",
       "      <th>min</th>\n",
       "      <td>-0.731248</td>\n",
       "      <td>-0.284568</td>\n",
       "      <td>-0.135375</td>\n",
       "      <td>-0.072937</td>\n",
       "      <td>-0.012762</td>\n",
       "      <td>-0.027742</td>\n",
       "      <td>-0.136841</td>\n",
       "      <td>-0.095121</td>\n",
       "      <td>-0.248885</td>\n",
       "      <td>-0.203851</td>\n",
       "      <td>-0.103637</td>\n",
       "    </tr>\n",
       "    <tr>\n",
       "      <th>25%</th>\n",
       "      <td>-0.010792</td>\n",
       "      <td>-0.012556</td>\n",
       "      <td>-0.007382</td>\n",
       "      <td>-0.004180</td>\n",
       "      <td>-0.001318</td>\n",
       "      <td>-0.003669</td>\n",
       "      <td>-0.008418</td>\n",
       "      <td>-0.005073</td>\n",
       "      <td>-0.010556</td>\n",
       "      <td>-0.007613</td>\n",
       "      <td>-0.004887</td>\n",
       "    </tr>\n",
       "    <tr>\n",
       "      <th>50%</th>\n",
       "      <td>0.000713</td>\n",
       "      <td>0.000338</td>\n",
       "      <td>0.000267</td>\n",
       "      <td>0.000376</td>\n",
       "      <td>0.000134</td>\n",
       "      <td>0.000077</td>\n",
       "      <td>0.000000</td>\n",
       "      <td>0.000376</td>\n",
       "      <td>0.000401</td>\n",
       "      <td>0.000979</td>\n",
       "      <td>0.000547</td>\n",
       "    </tr>\n",
       "    <tr>\n",
       "      <th>75%</th>\n",
       "      <td>0.013090</td>\n",
       "      <td>0.014106</td>\n",
       "      <td>0.007532</td>\n",
       "      <td>0.004530</td>\n",
       "      <td>0.001458</td>\n",
       "      <td>0.003614</td>\n",
       "      <td>0.008024</td>\n",
       "      <td>0.006163</td>\n",
       "      <td>0.011120</td>\n",
       "      <td>0.009413</td>\n",
       "      <td>0.005771</td>\n",
       "    </tr>\n",
       "    <tr>\n",
       "      <th>max</th>\n",
       "      <td>0.128269</td>\n",
       "      <td>0.296181</td>\n",
       "      <td>0.173961</td>\n",
       "      <td>0.080330</td>\n",
       "      <td>0.013117</td>\n",
       "      <td>0.034506</td>\n",
       "      <td>0.179844</td>\n",
       "      <td>0.102451</td>\n",
       "      <td>0.183345</td>\n",
       "      <td>0.131802</td>\n",
       "      <td>0.120666</td>\n",
       "    </tr>\n",
       "  </tbody>\n",
       "</table>\n",
       "</div>"
      ],
      "text/plain": [
       "              AAPL         AMZN          ATT          AUD         BOND  \\\n",
       "count  4745.000000  4745.000000  4745.000000  4745.000000  4745.000000   \n",
       "mean      0.000792     0.000628    -0.000113     0.000015     0.000048   \n",
       "std       0.026857     0.033276     0.016508     0.008152     0.002324   \n",
       "min      -0.731248    -0.284568    -0.135375    -0.072937    -0.012762   \n",
       "25%      -0.010792    -0.012556    -0.007382    -0.004180    -0.001318   \n",
       "50%       0.000713     0.000338     0.000267     0.000376     0.000134   \n",
       "75%       0.013090     0.014106     0.007532     0.004530     0.001458   \n",
       "max       0.128269     0.296181     0.173961     0.080330     0.013117   \n",
       "\n",
       "               EUR           GE         GOLD         INTC       SILVER  \\\n",
       "count  4745.000000  4745.000000  4745.000000  4745.000000  4745.000000   \n",
       "mean      0.000028    -0.000404     0.000315     0.000028     0.000223   \n",
       "std       0.006331     0.019491     0.011047     0.023566     0.018886   \n",
       "min      -0.027742    -0.136841    -0.095121    -0.248885    -0.203851   \n",
       "25%      -0.003669    -0.008418    -0.005073    -0.010556    -0.007613   \n",
       "50%       0.000077     0.000000     0.000376     0.000401     0.000979   \n",
       "75%       0.003614     0.008024     0.006163     0.011120     0.009413   \n",
       "max       0.034506     0.179844     0.102451     0.183345     0.131802   \n",
       "\n",
       "               SPY  \n",
       "count  4745.000000  \n",
       "mean      0.000112  \n",
       "std       0.012167  \n",
       "min      -0.103637  \n",
       "25%      -0.004887  \n",
       "50%       0.000547  \n",
       "75%       0.005771  \n",
       "max       0.120666  "
      ]
     },
     "execution_count": 8,
     "metadata": {},
     "output_type": "execute_result"
    }
   ],
   "source": [
    "# individual Sharpe for each instrument\n",
    "df_log = np.log(df / df.shift(1))\n",
    "df_log.iloc[0] = [0, 0, 0, 0, 0, 0, 0, 0, 0, 0, 0]\n",
    "df_log.describe()"
   ]
  },
  {
   "cell_type": "code",
   "execution_count": 9,
   "metadata": {
    "id": "AN1sHdYRfyi6"
   },
   "outputs": [],
   "source": [
    "def print_data_frame_pct (dF, pct_format=pct_format_4d, nan='NaN', indexSlice=pd.IndexSlice[:,:]):\n",
    "    display(dF.style.format(pct_format, na_rep=nan, subset=indexSlice))"
   ]
  },
  {
   "cell_type": "code",
   "execution_count": 10,
   "metadata": {
    "id": "Zcffi2O5fyi7",
    "outputId": "c0aa1da3-a214-4e38-f8cf-72ce351f0ce6"
   },
   "outputs": [
    {
     "data": {
      "text/html": [
       "<style  type=\"text/css\" >\n",
       "</style><table id=\"T_1832f_\" ><thead>    <tr>        <th class=\"blank level0\" ></th>        <th class=\"col_heading level0 col0\" >AAPL</th>        <th class=\"col_heading level0 col1\" >AMZN</th>        <th class=\"col_heading level0 col2\" >ATT</th>        <th class=\"col_heading level0 col3\" >AUD</th>        <th class=\"col_heading level0 col4\" >BOND</th>        <th class=\"col_heading level0 col5\" >EUR</th>        <th class=\"col_heading level0 col6\" >GE</th>        <th class=\"col_heading level0 col7\" >GOLD</th>        <th class=\"col_heading level0 col8\" >INTC</th>        <th class=\"col_heading level0 col9\" >SILVER</th>        <th class=\"col_heading level0 col10\" >SPY</th>    </tr></thead><tbody>\n",
       "                <tr>\n",
       "                        <th id=\"T_1832f_level0_row0\" class=\"row_heading level0 row0\" >Average Annual Return</th>\n",
       "                        <td id=\"T_1832f_row0_col0\" class=\"data row0 col0\" >20.60%</td>\n",
       "                        <td id=\"T_1832f_row0_col1\" class=\"data row0 col1\" >16.34%</td>\n",
       "                        <td id=\"T_1832f_row0_col2\" class=\"data row0 col2\" >-2.93%</td>\n",
       "                        <td id=\"T_1832f_row0_col3\" class=\"data row0 col3\" >0.39%</td>\n",
       "                        <td id=\"T_1832f_row0_col4\" class=\"data row0 col4\" >1.24%</td>\n",
       "                        <td id=\"T_1832f_row0_col5\" class=\"data row0 col5\" >0.72%</td>\n",
       "                        <td id=\"T_1832f_row0_col6\" class=\"data row0 col6\" >-10.52%</td>\n",
       "                        <td id=\"T_1832f_row0_col7\" class=\"data row0 col7\" >8.18%</td>\n",
       "                        <td id=\"T_1832f_row0_col8\" class=\"data row0 col8\" >0.72%</td>\n",
       "                        <td id=\"T_1832f_row0_col9\" class=\"data row0 col9\" >5.80%</td>\n",
       "                        <td id=\"T_1832f_row0_col10\" class=\"data row0 col10\" >2.91%</td>\n",
       "            </tr>\n",
       "            <tr>\n",
       "                        <th id=\"T_1832f_level0_row1\" class=\"row_heading level0 row1\" >Annual Risk</th>\n",
       "                        <td id=\"T_1832f_row1_col0\" class=\"data row1 col0\" >43.31%</td>\n",
       "                        <td id=\"T_1832f_row1_col1\" class=\"data row1 col1\" >53.66%</td>\n",
       "                        <td id=\"T_1832f_row1_col2\" class=\"data row1 col2\" >26.62%</td>\n",
       "                        <td id=\"T_1832f_row1_col3\" class=\"data row1 col3\" >13.14%</td>\n",
       "                        <td id=\"T_1832f_row1_col4\" class=\"data row1 col4\" >3.75%</td>\n",
       "                        <td id=\"T_1832f_row1_col5\" class=\"data row1 col5\" >10.21%</td>\n",
       "                        <td id=\"T_1832f_row1_col6\" class=\"data row1 col6\" >31.43%</td>\n",
       "                        <td id=\"T_1832f_row1_col7\" class=\"data row1 col7\" >17.81%</td>\n",
       "                        <td id=\"T_1832f_row1_col8\" class=\"data row1 col8\" >38.00%</td>\n",
       "                        <td id=\"T_1832f_row1_col9\" class=\"data row1 col9\" >30.45%</td>\n",
       "                        <td id=\"T_1832f_row1_col10\" class=\"data row1 col10\" >19.62%</td>\n",
       "            </tr>\n",
       "            <tr>\n",
       "                        <th id=\"T_1832f_level0_row2\" class=\"row_heading level0 row2\" >Sharpe Ratio</th>\n",
       "                        <td id=\"T_1832f_row2_col0\" class=\"data row2 col0\" >0.475784</td>\n",
       "                        <td id=\"T_1832f_row2_col1\" class=\"data row2 col1\" >0.304546</td>\n",
       "                        <td id=\"T_1832f_row2_col2\" class=\"data row2 col2\" >-0.110211</td>\n",
       "                        <td id=\"T_1832f_row2_col3\" class=\"data row2 col3\" >0.029527</td>\n",
       "                        <td id=\"T_1832f_row2_col4\" class=\"data row2 col4\" >0.331087</td>\n",
       "                        <td id=\"T_1832f_row2_col5\" class=\"data row2 col5\" >0.070160</td>\n",
       "                        <td id=\"T_1832f_row2_col6\" class=\"data row2 col6\" >-0.334581</td>\n",
       "                        <td id=\"T_1832f_row2_col7\" class=\"data row2 col7\" >0.459431</td>\n",
       "                        <td id=\"T_1832f_row2_col8\" class=\"data row2 col8\" >0.018931</td>\n",
       "                        <td id=\"T_1832f_row2_col9\" class=\"data row2 col9\" >0.190340</td>\n",
       "                        <td id=\"T_1832f_row2_col10\" class=\"data row2 col10\" >0.148466</td>\n",
       "            </tr>\n",
       "            <tr>\n",
       "                        <th id=\"T_1832f_level0_row3\" class=\"row_heading level0 row3\" >maxDD</th>\n",
       "                        <td id=\"T_1832f_row3_col0\" class=\"data row3 col0\" >-170.38%</td>\n",
       "                        <td id=\"T_1832f_row3_col1\" class=\"data row3 col1\" >-270.61%</td>\n",
       "                        <td id=\"T_1832f_row3_col2\" class=\"data row3 col2\" >-110.69%</td>\n",
       "                        <td id=\"T_1832f_row3_col3\" class=\"data row3 col3\" >-48.78%</td>\n",
       "                        <td id=\"T_1832f_row3_col4\" class=\"data row3 col4\" >-14.21%</td>\n",
       "                        <td id=\"T_1832f_row3_col5\" class=\"data row3 col5\" >-43.14%</td>\n",
       "                        <td id=\"T_1832f_row3_col6\" class=\"data row3 col6\" >-219.82%</td>\n",
       "                        <td id=\"T_1832f_row3_col7\" class=\"data row3 col7\" >-59.07%</td>\n",
       "                        <td id=\"T_1832f_row3_col8\" class=\"data row3 col8\" >-182.43%</td>\n",
       "                        <td id=\"T_1832f_row3_col9\" class=\"data row3 col9\" >-126.48%</td>\n",
       "                        <td id=\"T_1832f_row3_col10\" class=\"data row3 col10\" >-83.18%</td>\n",
       "            </tr>\n",
       "            <tr>\n",
       "                        <th id=\"T_1832f_level0_row4\" class=\"row_heading level0 row4\" >Success Ratio</th>\n",
       "                        <td id=\"T_1832f_row4_col0\" class=\"data row4 col0\" >52.24%</td>\n",
       "                        <td id=\"T_1832f_row4_col1\" class=\"data row4 col1\" >51.23%</td>\n",
       "                        <td id=\"T_1832f_row4_col2\" class=\"data row4 col2\" >51.65%</td>\n",
       "                        <td id=\"T_1832f_row4_col3\" class=\"data row4 col3\" >52.73%</td>\n",
       "                        <td id=\"T_1832f_row4_col4\" class=\"data row4 col4\" >52.48%</td>\n",
       "                        <td id=\"T_1832f_row4_col5\" class=\"data row4 col5\" >51.00%</td>\n",
       "                        <td id=\"T_1832f_row4_col6\" class=\"data row4 col6\" >50.09%</td>\n",
       "                        <td id=\"T_1832f_row4_col7\" class=\"data row4 col7\" >52.46%</td>\n",
       "                        <td id=\"T_1832f_row4_col8\" class=\"data row4 col8\" >51.70%</td>\n",
       "                        <td id=\"T_1832f_row4_col9\" class=\"data row4 col9\" >54.10%</td>\n",
       "                        <td id=\"T_1832f_row4_col10\" class=\"data row4 col10\" >53.95%</td>\n",
       "            </tr>\n",
       "    </tbody></table>"
      ],
      "text/plain": [
       "<pandas.io.formats.style.Styler at 0x7f9788c2a610>"
      ]
     },
     "metadata": {},
     "output_type": "display_data"
    }
   ],
   "source": [
    "calc_summary_stats(df_log)"
   ]
  },
  {
   "cell_type": "code",
   "execution_count": 11,
   "metadata": {
    "id": "yFlNXbz8fyi7"
   },
   "outputs": [],
   "source": [
    "def movingAverageCrossover(dataFrame, fastWindow, slowWindow, flatOrShort):\n",
    "    if flatOrShort not in (0, -1):\n",
    "        raise ValueError('0 for flat, and -1 for short only')\n",
    "    if fastWindow >= slowWindow:\n",
    "        raise ValueError('fastWindow should be smaller than slowWindow')\n",
    "    \n",
    "    df_ma = dataFrame.copy()\n",
    "    df_ma_fast = df_ma.rolling(fastWindow).mean()\n",
    "    df_ma_slow = df_ma.rolling(slowWindow).mean()\n",
    "    df_ma_position = pd.DataFrame(np.where(\n",
    "        df_ma_fast > df_ma_slow,\n",
    "        1,\n",
    "        np.where(df_ma_fast < df_ma_slow, flatOrShort, 0)), columns=df_ma.columns, index=df_ma.index)\n",
    "    return df_ma_position"
   ]
  },
  {
   "cell_type": "markdown",
   "metadata": {
    "id": "5LbJdNo4fyi7"
   },
   "source": [
    "#### Calculating Sharpe for combination of different Window sizes and flatOrShort"
   ]
  },
  {
   "cell_type": "code",
   "execution_count": 12,
   "metadata": {
    "id": "WZdKj9Zufyi7"
   },
   "outputs": [],
   "source": [
    "sharpe = []\n",
    "for fast in range(5, 110):\n",
    "    for slow in range(50, 500, 5):\n",
    "        if fast >= slow:\n",
    "            continue\n",
    "        else:\n",
    "            for i in [0, -1]:\n",
    "                df_position = movingAverageCrossover(df, fast, slow, i)\n",
    "                df_ma_return = df_position.shift(1) * df_log\n",
    "                df_ma_return_cal = df_ma_return[slow - 1:]\n",
    "                sharpe_each = np.sqrt(annualization_factor) * df_ma_return_cal.mean()/df_ma_return_cal.std()\n",
    "                sharpe.append(np.append([fast, slow, i], sharpe_each))\n",
    "\n",
    "sharpe = pd.DataFrame(sharpe, columns=['Fast', 'Slow','Flat or Short', 'AAPL', 'AMZN', 'ATT', 'AUD',\n",
    "'BOND', 'EUR', 'GE', 'GOLD', 'INTC', 'SILVER', 'SPY'])"
   ]
  },
  {
   "cell_type": "code",
   "execution_count": 13,
   "metadata": {
    "id": "ItDeXIAJfyi7",
    "outputId": "fd7bbfb8-3f66-4e54-8691-f96eb5812d97"
   },
   "outputs": [
    {
     "data": {
      "text/html": [
       "<div>\n",
       "<style scoped>\n",
       "    .dataframe tbody tr th:only-of-type {\n",
       "        vertical-align: middle;\n",
       "    }\n",
       "\n",
       "    .dataframe tbody tr th {\n",
       "        vertical-align: top;\n",
       "    }\n",
       "\n",
       "    .dataframe thead th {\n",
       "        text-align: right;\n",
       "    }\n",
       "</style>\n",
       "<table border=\"1\" class=\"dataframe\">\n",
       "  <thead>\n",
       "    <tr style=\"text-align: right;\">\n",
       "      <th></th>\n",
       "      <th>Fast</th>\n",
       "      <th>Slow</th>\n",
       "      <th>Flat or Short</th>\n",
       "      <th>AAPL</th>\n",
       "      <th>AMZN</th>\n",
       "      <th>ATT</th>\n",
       "      <th>AUD</th>\n",
       "      <th>BOND</th>\n",
       "      <th>EUR</th>\n",
       "      <th>GE</th>\n",
       "      <th>GOLD</th>\n",
       "      <th>INTC</th>\n",
       "      <th>SILVER</th>\n",
       "      <th>SPY</th>\n",
       "    </tr>\n",
       "  </thead>\n",
       "  <tbody>\n",
       "    <tr>\n",
       "      <th>0</th>\n",
       "      <td>5.0</td>\n",
       "      <td>50.0</td>\n",
       "      <td>0.0</td>\n",
       "      <td>0.693027</td>\n",
       "      <td>0.454810</td>\n",
       "      <td>-0.224317</td>\n",
       "      <td>0.184500</td>\n",
       "      <td>0.319059</td>\n",
       "      <td>0.219874</td>\n",
       "      <td>-0.117693</td>\n",
       "      <td>0.316193</td>\n",
       "      <td>-0.060861</td>\n",
       "      <td>0.193612</td>\n",
       "      <td>0.132697</td>\n",
       "    </tr>\n",
       "    <tr>\n",
       "      <th>1</th>\n",
       "      <td>5.0</td>\n",
       "      <td>50.0</td>\n",
       "      <td>-1.0</td>\n",
       "      <td>0.459319</td>\n",
       "      <td>0.289652</td>\n",
       "      <td>-0.184400</td>\n",
       "      <td>0.178338</td>\n",
       "      <td>0.134878</td>\n",
       "      <td>0.201349</td>\n",
       "      <td>0.182306</td>\n",
       "      <td>0.014564</td>\n",
       "      <td>-0.034466</td>\n",
       "      <td>0.069765</td>\n",
       "      <td>-0.021570</td>\n",
       "    </tr>\n",
       "    <tr>\n",
       "      <th>2</th>\n",
       "      <td>5.0</td>\n",
       "      <td>55.0</td>\n",
       "      <td>0.0</td>\n",
       "      <td>0.693487</td>\n",
       "      <td>0.428222</td>\n",
       "      <td>-0.158254</td>\n",
       "      <td>0.197250</td>\n",
       "      <td>0.239030</td>\n",
       "      <td>0.127710</td>\n",
       "      <td>-0.044672</td>\n",
       "      <td>0.210391</td>\n",
       "      <td>-0.128454</td>\n",
       "      <td>0.157231</td>\n",
       "      <td>0.121536</td>\n",
       "    </tr>\n",
       "    <tr>\n",
       "      <th>3</th>\n",
       "      <td>5.0</td>\n",
       "      <td>55.0</td>\n",
       "      <td>-1.0</td>\n",
       "      <td>0.465263</td>\n",
       "      <td>0.242467</td>\n",
       "      <td>-0.097697</td>\n",
       "      <td>0.186684</td>\n",
       "      <td>0.032828</td>\n",
       "      <td>0.085839</td>\n",
       "      <td>0.275761</td>\n",
       "      <td>-0.147647</td>\n",
       "      <td>-0.098933</td>\n",
       "      <td>0.016901</td>\n",
       "      <td>-0.019449</td>\n",
       "    </tr>\n",
       "    <tr>\n",
       "      <th>4</th>\n",
       "      <td>5.0</td>\n",
       "      <td>60.0</td>\n",
       "      <td>0.0</td>\n",
       "      <td>0.700406</td>\n",
       "      <td>0.426662</td>\n",
       "      <td>-0.091727</td>\n",
       "      <td>0.186744</td>\n",
       "      <td>0.235774</td>\n",
       "      <td>0.119984</td>\n",
       "      <td>-0.076906</td>\n",
       "      <td>0.213260</td>\n",
       "      <td>-0.031538</td>\n",
       "      <td>0.066262</td>\n",
       "      <td>0.131853</td>\n",
       "    </tr>\n",
       "    <tr>\n",
       "      <th>...</th>\n",
       "      <td>...</td>\n",
       "      <td>...</td>\n",
       "      <td>...</td>\n",
       "      <td>...</td>\n",
       "      <td>...</td>\n",
       "      <td>...</td>\n",
       "      <td>...</td>\n",
       "      <td>...</td>\n",
       "      <td>...</td>\n",
       "      <td>...</td>\n",
       "      <td>...</td>\n",
       "      <td>...</td>\n",
       "      <td>...</td>\n",
       "      <td>...</td>\n",
       "    </tr>\n",
       "    <tr>\n",
       "      <th>18115</th>\n",
       "      <td>109.0</td>\n",
       "      <td>485.0</td>\n",
       "      <td>-1.0</td>\n",
       "      <td>0.441409</td>\n",
       "      <td>0.248724</td>\n",
       "      <td>0.177797</td>\n",
       "      <td>0.078400</td>\n",
       "      <td>0.033577</td>\n",
       "      <td>-0.221797</td>\n",
       "      <td>0.446646</td>\n",
       "      <td>0.623420</td>\n",
       "      <td>-0.152246</td>\n",
       "      <td>0.159461</td>\n",
       "      <td>0.357601</td>\n",
       "    </tr>\n",
       "    <tr>\n",
       "      <th>18116</th>\n",
       "      <td>109.0</td>\n",
       "      <td>490.0</td>\n",
       "      <td>0.0</td>\n",
       "      <td>0.713960</td>\n",
       "      <td>0.568164</td>\n",
       "      <td>0.062958</td>\n",
       "      <td>0.127345</td>\n",
       "      <td>0.106291</td>\n",
       "      <td>-0.030868</td>\n",
       "      <td>0.151797</td>\n",
       "      <td>0.624338</td>\n",
       "      <td>-0.084411</td>\n",
       "      <td>0.238132</td>\n",
       "      <td>0.460496</td>\n",
       "    </tr>\n",
       "    <tr>\n",
       "      <th>18117</th>\n",
       "      <td>109.0</td>\n",
       "      <td>490.0</td>\n",
       "      <td>-1.0</td>\n",
       "      <td>0.410629</td>\n",
       "      <td>0.243458</td>\n",
       "      <td>0.144250</td>\n",
       "      <td>0.058718</td>\n",
       "      <td>0.000545</td>\n",
       "      <td>-0.190053</td>\n",
       "      <td>0.486143</td>\n",
       "      <td>0.614643</td>\n",
       "      <td>-0.169148</td>\n",
       "      <td>0.162399</td>\n",
       "      <td>0.366118</td>\n",
       "    </tr>\n",
       "    <tr>\n",
       "      <th>18118</th>\n",
       "      <td>109.0</td>\n",
       "      <td>495.0</td>\n",
       "      <td>0.0</td>\n",
       "      <td>0.715448</td>\n",
       "      <td>0.550185</td>\n",
       "      <td>0.073210</td>\n",
       "      <td>0.113251</td>\n",
       "      <td>0.120573</td>\n",
       "      <td>-0.041149</td>\n",
       "      <td>0.130320</td>\n",
       "      <td>0.605867</td>\n",
       "      <td>-0.066260</td>\n",
       "      <td>0.231571</td>\n",
       "      <td>0.473579</td>\n",
       "    </tr>\n",
       "    <tr>\n",
       "      <th>18119</th>\n",
       "      <td>109.0</td>\n",
       "      <td>495.0</td>\n",
       "      <td>-1.0</td>\n",
       "      <td>0.417844</td>\n",
       "      <td>0.214181</td>\n",
       "      <td>0.154335</td>\n",
       "      <td>0.028334</td>\n",
       "      <td>0.022975</td>\n",
       "      <td>-0.220890</td>\n",
       "      <td>0.469263</td>\n",
       "      <td>0.582831</td>\n",
       "      <td>-0.154688</td>\n",
       "      <td>0.156215</td>\n",
       "      <td>0.385082</td>\n",
       "    </tr>\n",
       "  </tbody>\n",
       "</table>\n",
       "<p>18120 rows × 14 columns</p>\n",
       "</div>"
      ],
      "text/plain": [
       "        Fast   Slow  Flat or Short      AAPL      AMZN       ATT       AUD  \\\n",
       "0        5.0   50.0            0.0  0.693027  0.454810 -0.224317  0.184500   \n",
       "1        5.0   50.0           -1.0  0.459319  0.289652 -0.184400  0.178338   \n",
       "2        5.0   55.0            0.0  0.693487  0.428222 -0.158254  0.197250   \n",
       "3        5.0   55.0           -1.0  0.465263  0.242467 -0.097697  0.186684   \n",
       "4        5.0   60.0            0.0  0.700406  0.426662 -0.091727  0.186744   \n",
       "...      ...    ...            ...       ...       ...       ...       ...   \n",
       "18115  109.0  485.0           -1.0  0.441409  0.248724  0.177797  0.078400   \n",
       "18116  109.0  490.0            0.0  0.713960  0.568164  0.062958  0.127345   \n",
       "18117  109.0  490.0           -1.0  0.410629  0.243458  0.144250  0.058718   \n",
       "18118  109.0  495.0            0.0  0.715448  0.550185  0.073210  0.113251   \n",
       "18119  109.0  495.0           -1.0  0.417844  0.214181  0.154335  0.028334   \n",
       "\n",
       "           BOND       EUR        GE      GOLD      INTC    SILVER       SPY  \n",
       "0      0.319059  0.219874 -0.117693  0.316193 -0.060861  0.193612  0.132697  \n",
       "1      0.134878  0.201349  0.182306  0.014564 -0.034466  0.069765 -0.021570  \n",
       "2      0.239030  0.127710 -0.044672  0.210391 -0.128454  0.157231  0.121536  \n",
       "3      0.032828  0.085839  0.275761 -0.147647 -0.098933  0.016901 -0.019449  \n",
       "4      0.235774  0.119984 -0.076906  0.213260 -0.031538  0.066262  0.131853  \n",
       "...         ...       ...       ...       ...       ...       ...       ...  \n",
       "18115  0.033577 -0.221797  0.446646  0.623420 -0.152246  0.159461  0.357601  \n",
       "18116  0.106291 -0.030868  0.151797  0.624338 -0.084411  0.238132  0.460496  \n",
       "18117  0.000545 -0.190053  0.486143  0.614643 -0.169148  0.162399  0.366118  \n",
       "18118  0.120573 -0.041149  0.130320  0.605867 -0.066260  0.231571  0.473579  \n",
       "18119  0.022975 -0.220890  0.469263  0.582831 -0.154688  0.156215  0.385082  \n",
       "\n",
       "[18120 rows x 14 columns]"
      ]
     },
     "execution_count": 13,
     "metadata": {},
     "output_type": "execute_result"
    }
   ],
   "source": [
    "sharpe"
   ]
  },
  {
   "cell_type": "code",
   "execution_count": 14,
   "metadata": {
    "id": "QzJmV6Isfyi8",
    "outputId": "73b09603-75bf-47da-987f-dd43d4993d02"
   },
   "outputs": [
    {
     "name": "stdout",
     "output_type": "stream",
     "text": [
      "AAPL 1.025676342315057\n",
      "AMZN 0.8055973877277071\n",
      "ATT 0.38158119857629225\n",
      "AUD 0.48303279473263755\n",
      "BOND 0.48651276037371904\n",
      "EUR 0.5501567021310497\n",
      "GE 0.5754403297054745\n",
      "GOLD 0.7135416407402015\n",
      "INTC 0.29084356308570536\n",
      "SILVER 0.529164954952405\n",
      "SPY 0.66031741368229\n"
     ]
    }
   ],
   "source": [
    "# best MA Sharpe for each Instrument\n",
    "for col in df.columns:\n",
    "    print(col, sharpe[col].max())"
   ]
  },
  {
   "cell_type": "code",
   "execution_count": 15,
   "metadata": {
    "id": "Zn328crYfyi8",
    "outputId": "05987c58-26a3-4014-fb7b-3a2a43200f73"
   },
   "outputs": [
    {
     "data": {
      "text/html": [
       "<div>\n",
       "<style scoped>\n",
       "    .dataframe tbody tr th:only-of-type {\n",
       "        vertical-align: middle;\n",
       "    }\n",
       "\n",
       "    .dataframe tbody tr th {\n",
       "        vertical-align: top;\n",
       "    }\n",
       "\n",
       "    .dataframe thead th {\n",
       "        text-align: right;\n",
       "    }\n",
       "</style>\n",
       "<table border=\"1\" class=\"dataframe\">\n",
       "  <thead>\n",
       "    <tr style=\"text-align: right;\">\n",
       "      <th></th>\n",
       "      <th>Fast</th>\n",
       "      <th>Slow</th>\n",
       "      <th>Flat or Short</th>\n",
       "      <th>AAPL</th>\n",
       "      <th>AMZN</th>\n",
       "      <th>ATT</th>\n",
       "      <th>AUD</th>\n",
       "      <th>BOND</th>\n",
       "      <th>EUR</th>\n",
       "      <th>GE</th>\n",
       "      <th>GOLD</th>\n",
       "      <th>INTC</th>\n",
       "      <th>SILVER</th>\n",
       "      <th>SPY</th>\n",
       "    </tr>\n",
       "  </thead>\n",
       "  <tbody>\n",
       "    <tr>\n",
       "      <th>74</th>\n",
       "      <td>5.0</td>\n",
       "      <td>235.0</td>\n",
       "      <td>0.0</td>\n",
       "      <td>1.005508</td>\n",
       "      <td>0.591464</td>\n",
       "      <td>-0.173980</td>\n",
       "      <td>0.185267</td>\n",
       "      <td>0.275007</td>\n",
       "      <td>0.193287</td>\n",
       "      <td>-0.008458</td>\n",
       "      <td>0.423280</td>\n",
       "      <td>0.092787</td>\n",
       "      <td>0.202094</td>\n",
       "      <td>0.457122</td>\n",
       "    </tr>\n",
       "    <tr>\n",
       "      <th>76</th>\n",
       "      <td>5.0</td>\n",
       "      <td>240.0</td>\n",
       "      <td>0.0</td>\n",
       "      <td>1.025676</td>\n",
       "      <td>0.563059</td>\n",
       "      <td>-0.131395</td>\n",
       "      <td>0.164373</td>\n",
       "      <td>0.275015</td>\n",
       "      <td>0.198853</td>\n",
       "      <td>0.018086</td>\n",
       "      <td>0.381149</td>\n",
       "      <td>0.072507</td>\n",
       "      <td>0.199481</td>\n",
       "      <td>0.475841</td>\n",
       "    </tr>\n",
       "    <tr>\n",
       "      <th>82</th>\n",
       "      <td>5.0</td>\n",
       "      <td>255.0</td>\n",
       "      <td>0.0</td>\n",
       "      <td>1.000179</td>\n",
       "      <td>0.567868</td>\n",
       "      <td>-0.194419</td>\n",
       "      <td>0.160542</td>\n",
       "      <td>0.262185</td>\n",
       "      <td>0.243153</td>\n",
       "      <td>-0.001469</td>\n",
       "      <td>0.380182</td>\n",
       "      <td>0.018931</td>\n",
       "      <td>0.209170</td>\n",
       "      <td>0.439446</td>\n",
       "    </tr>\n",
       "    <tr>\n",
       "      <th>84</th>\n",
       "      <td>5.0</td>\n",
       "      <td>260.0</td>\n",
       "      <td>0.0</td>\n",
       "      <td>1.000028</td>\n",
       "      <td>0.573395</td>\n",
       "      <td>-0.171174</td>\n",
       "      <td>0.101155</td>\n",
       "      <td>0.281404</td>\n",
       "      <td>0.227772</td>\n",
       "      <td>-0.012410</td>\n",
       "      <td>0.398927</td>\n",
       "      <td>0.018011</td>\n",
       "      <td>0.202452</td>\n",
       "      <td>0.489485</td>\n",
       "    </tr>\n",
       "    <tr>\n",
       "      <th>262</th>\n",
       "      <td>6.0</td>\n",
       "      <td>255.0</td>\n",
       "      <td>0.0</td>\n",
       "      <td>1.007823</td>\n",
       "      <td>0.565163</td>\n",
       "      <td>-0.098093</td>\n",
       "      <td>0.117963</td>\n",
       "      <td>0.260439</td>\n",
       "      <td>0.225196</td>\n",
       "      <td>-0.002794</td>\n",
       "      <td>0.385653</td>\n",
       "      <td>-0.000909</td>\n",
       "      <td>0.226236</td>\n",
       "      <td>0.478033</td>\n",
       "    </tr>\n",
       "    <tr>\n",
       "      <th>610</th>\n",
       "      <td>8.0</td>\n",
       "      <td>225.0</td>\n",
       "      <td>0.0</td>\n",
       "      <td>1.006524</td>\n",
       "      <td>0.540039</td>\n",
       "      <td>-0.248443</td>\n",
       "      <td>0.163880</td>\n",
       "      <td>0.291558</td>\n",
       "      <td>0.291220</td>\n",
       "      <td>0.035414</td>\n",
       "      <td>0.379434</td>\n",
       "      <td>0.076713</td>\n",
       "      <td>0.135818</td>\n",
       "      <td>0.522642</td>\n",
       "    </tr>\n",
       "    <tr>\n",
       "      <th>790</th>\n",
       "      <td>9.0</td>\n",
       "      <td>225.0</td>\n",
       "      <td>0.0</td>\n",
       "      <td>1.003074</td>\n",
       "      <td>0.580662</td>\n",
       "      <td>-0.180556</td>\n",
       "      <td>0.187378</td>\n",
       "      <td>0.294287</td>\n",
       "      <td>0.275086</td>\n",
       "      <td>0.056239</td>\n",
       "      <td>0.403781</td>\n",
       "      <td>0.060926</td>\n",
       "      <td>0.134832</td>\n",
       "      <td>0.530792</td>\n",
       "    </tr>\n",
       "    <tr>\n",
       "      <th>968</th>\n",
       "      <td>10.0</td>\n",
       "      <td>220.0</td>\n",
       "      <td>0.0</td>\n",
       "      <td>1.006043</td>\n",
       "      <td>0.627562</td>\n",
       "      <td>-0.188945</td>\n",
       "      <td>0.148806</td>\n",
       "      <td>0.311900</td>\n",
       "      <td>0.280087</td>\n",
       "      <td>0.025052</td>\n",
       "      <td>0.426816</td>\n",
       "      <td>0.061360</td>\n",
       "      <td>0.134636</td>\n",
       "      <td>0.495369</td>\n",
       "    </tr>\n",
       "    <tr>\n",
       "      <th>1148</th>\n",
       "      <td>11.0</td>\n",
       "      <td>220.0</td>\n",
       "      <td>0.0</td>\n",
       "      <td>1.018273</td>\n",
       "      <td>0.663285</td>\n",
       "      <td>-0.166149</td>\n",
       "      <td>0.145177</td>\n",
       "      <td>0.308136</td>\n",
       "      <td>0.288243</td>\n",
       "      <td>0.054362</td>\n",
       "      <td>0.439881</td>\n",
       "      <td>0.037067</td>\n",
       "      <td>0.139625</td>\n",
       "      <td>0.543433</td>\n",
       "    </tr>\n",
       "  </tbody>\n",
       "</table>\n",
       "</div>"
      ],
      "text/plain": [
       "      Fast   Slow  Flat or Short      AAPL      AMZN       ATT       AUD  \\\n",
       "74     5.0  235.0            0.0  1.005508  0.591464 -0.173980  0.185267   \n",
       "76     5.0  240.0            0.0  1.025676  0.563059 -0.131395  0.164373   \n",
       "82     5.0  255.0            0.0  1.000179  0.567868 -0.194419  0.160542   \n",
       "84     5.0  260.0            0.0  1.000028  0.573395 -0.171174  0.101155   \n",
       "262    6.0  255.0            0.0  1.007823  0.565163 -0.098093  0.117963   \n",
       "610    8.0  225.0            0.0  1.006524  0.540039 -0.248443  0.163880   \n",
       "790    9.0  225.0            0.0  1.003074  0.580662 -0.180556  0.187378   \n",
       "968   10.0  220.0            0.0  1.006043  0.627562 -0.188945  0.148806   \n",
       "1148  11.0  220.0            0.0  1.018273  0.663285 -0.166149  0.145177   \n",
       "\n",
       "          BOND       EUR        GE      GOLD      INTC    SILVER       SPY  \n",
       "74    0.275007  0.193287 -0.008458  0.423280  0.092787  0.202094  0.457122  \n",
       "76    0.275015  0.198853  0.018086  0.381149  0.072507  0.199481  0.475841  \n",
       "82    0.262185  0.243153 -0.001469  0.380182  0.018931  0.209170  0.439446  \n",
       "84    0.281404  0.227772 -0.012410  0.398927  0.018011  0.202452  0.489485  \n",
       "262   0.260439  0.225196 -0.002794  0.385653 -0.000909  0.226236  0.478033  \n",
       "610   0.291558  0.291220  0.035414  0.379434  0.076713  0.135818  0.522642  \n",
       "790   0.294287  0.275086  0.056239  0.403781  0.060926  0.134832  0.530792  \n",
       "968   0.311900  0.280087  0.025052  0.426816  0.061360  0.134636  0.495369  \n",
       "1148  0.308136  0.288243  0.054362  0.439881  0.037067  0.139625  0.543433  "
      ]
     },
     "execution_count": 15,
     "metadata": {},
     "output_type": "execute_result"
    }
   ],
   "source": [
    "# Determing window values for instrument with best Sharpe i.e, Apple\n",
    "sharpe.loc[sharpe['AAPL']>1]"
   ]
  },
  {
   "cell_type": "markdown",
   "metadata": {
    "id": "KkMcclSDfyi8"
   },
   "source": [
    "#### Bollinger Band Stratergy to get Sharpe for each instrument"
   ]
  },
  {
   "cell_type": "code",
   "execution_count": 16,
   "metadata": {
    "id": "OmcuuZOtfyi8"
   },
   "outputs": [],
   "source": [
    "# Bollinger band\n",
    "df_bb = df.copy()\n",
    "df_bb_mean = df_bb.rolling(20).mean()\n",
    "df_bb_std = df_bb.rolling(20).std()\n",
    "df_bb_upper = df_bb_mean + 2 * df_bb_std\n",
    "df_bb_lower = df_bb_mean - 2 * df_bb_std\n",
    "\n",
    "df_bb = df_bb[19:]\n",
    "df_bb_mean = df_bb_mean[19:]\n",
    "df_bb_std = df_bb_std[19:]\n",
    "df_bb_upper = df_bb_upper[19:]\n",
    "df_bb_lower = df_bb_lower[19:]"
   ]
  },
  {
   "cell_type": "code",
   "execution_count": 17,
   "metadata": {
    "id": "D1L9A27yfyi8",
    "outputId": "95863374-4b0e-4c22-a610-355aae1c4ba4"
   },
   "outputs": [
    {
     "data": {
      "text/html": [
       "<div>\n",
       "<style scoped>\n",
       "    .dataframe tbody tr th:only-of-type {\n",
       "        vertical-align: middle;\n",
       "    }\n",
       "\n",
       "    .dataframe tbody tr th {\n",
       "        vertical-align: top;\n",
       "    }\n",
       "\n",
       "    .dataframe thead th {\n",
       "        text-align: right;\n",
       "    }\n",
       "</style>\n",
       "<table border=\"1\" class=\"dataframe\">\n",
       "  <thead>\n",
       "    <tr style=\"text-align: right;\">\n",
       "      <th></th>\n",
       "      <th>AAPL</th>\n",
       "      <th>AMZN</th>\n",
       "      <th>ATT</th>\n",
       "      <th>AUD</th>\n",
       "      <th>BOND</th>\n",
       "      <th>EUR</th>\n",
       "      <th>GE</th>\n",
       "      <th>GOLD</th>\n",
       "      <th>INTC</th>\n",
       "      <th>SILVER</th>\n",
       "      <th>SPY</th>\n",
       "    </tr>\n",
       "  </thead>\n",
       "  <tbody>\n",
       "    <tr>\n",
       "      <th>2000-01-28</th>\n",
       "      <td>0</td>\n",
       "      <td>0</td>\n",
       "      <td>0</td>\n",
       "      <td>1</td>\n",
       "      <td>0</td>\n",
       "      <td>1</td>\n",
       "      <td>1</td>\n",
       "      <td>0</td>\n",
       "      <td>0</td>\n",
       "      <td>0</td>\n",
       "      <td>1</td>\n",
       "    </tr>\n",
       "    <tr>\n",
       "      <th>2000-01-31</th>\n",
       "      <td>0</td>\n",
       "      <td>0</td>\n",
       "      <td>0</td>\n",
       "      <td>0</td>\n",
       "      <td>0</td>\n",
       "      <td>0</td>\n",
       "      <td>0</td>\n",
       "      <td>0</td>\n",
       "      <td>0</td>\n",
       "      <td>0</td>\n",
       "      <td>0</td>\n",
       "    </tr>\n",
       "    <tr>\n",
       "      <th>2000-02-01</th>\n",
       "      <td>0</td>\n",
       "      <td>0</td>\n",
       "      <td>0</td>\n",
       "      <td>0</td>\n",
       "      <td>0</td>\n",
       "      <td>0</td>\n",
       "      <td>0</td>\n",
       "      <td>0</td>\n",
       "      <td>0</td>\n",
       "      <td>0</td>\n",
       "      <td>0</td>\n",
       "    </tr>\n",
       "    <tr>\n",
       "      <th>2000-02-02</th>\n",
       "      <td>0</td>\n",
       "      <td>0</td>\n",
       "      <td>0</td>\n",
       "      <td>0</td>\n",
       "      <td>0</td>\n",
       "      <td>0</td>\n",
       "      <td>0</td>\n",
       "      <td>0</td>\n",
       "      <td>0</td>\n",
       "      <td>0</td>\n",
       "      <td>0</td>\n",
       "    </tr>\n",
       "    <tr>\n",
       "      <th>2000-02-03</th>\n",
       "      <td>0</td>\n",
       "      <td>0</td>\n",
       "      <td>0</td>\n",
       "      <td>0</td>\n",
       "      <td>0</td>\n",
       "      <td>0</td>\n",
       "      <td>0</td>\n",
       "      <td>0</td>\n",
       "      <td>0</td>\n",
       "      <td>0</td>\n",
       "      <td>0</td>\n",
       "    </tr>\n",
       "    <tr>\n",
       "      <th>...</th>\n",
       "      <td>...</td>\n",
       "      <td>...</td>\n",
       "      <td>...</td>\n",
       "      <td>...</td>\n",
       "      <td>...</td>\n",
       "      <td>...</td>\n",
       "      <td>...</td>\n",
       "      <td>...</td>\n",
       "      <td>...</td>\n",
       "      <td>...</td>\n",
       "      <td>...</td>\n",
       "    </tr>\n",
       "    <tr>\n",
       "      <th>2018-12-24</th>\n",
       "      <td>0</td>\n",
       "      <td>0</td>\n",
       "      <td>0</td>\n",
       "      <td>0</td>\n",
       "      <td>0</td>\n",
       "      <td>0</td>\n",
       "      <td>0</td>\n",
       "      <td>0</td>\n",
       "      <td>0</td>\n",
       "      <td>0</td>\n",
       "      <td>0</td>\n",
       "    </tr>\n",
       "    <tr>\n",
       "      <th>2018-12-26</th>\n",
       "      <td>0</td>\n",
       "      <td>0</td>\n",
       "      <td>0</td>\n",
       "      <td>0</td>\n",
       "      <td>0</td>\n",
       "      <td>0</td>\n",
       "      <td>0</td>\n",
       "      <td>0</td>\n",
       "      <td>0</td>\n",
       "      <td>0</td>\n",
       "      <td>0</td>\n",
       "    </tr>\n",
       "    <tr>\n",
       "      <th>2018-12-27</th>\n",
       "      <td>0</td>\n",
       "      <td>0</td>\n",
       "      <td>0</td>\n",
       "      <td>0</td>\n",
       "      <td>0</td>\n",
       "      <td>0</td>\n",
       "      <td>0</td>\n",
       "      <td>0</td>\n",
       "      <td>0</td>\n",
       "      <td>0</td>\n",
       "      <td>0</td>\n",
       "    </tr>\n",
       "    <tr>\n",
       "      <th>2018-12-28</th>\n",
       "      <td>0</td>\n",
       "      <td>0</td>\n",
       "      <td>0</td>\n",
       "      <td>0</td>\n",
       "      <td>0</td>\n",
       "      <td>0</td>\n",
       "      <td>0</td>\n",
       "      <td>0</td>\n",
       "      <td>0</td>\n",
       "      <td>0</td>\n",
       "      <td>0</td>\n",
       "    </tr>\n",
       "    <tr>\n",
       "      <th>2018-12-31</th>\n",
       "      <td>0</td>\n",
       "      <td>0</td>\n",
       "      <td>0</td>\n",
       "      <td>0</td>\n",
       "      <td>0</td>\n",
       "      <td>0</td>\n",
       "      <td>0</td>\n",
       "      <td>0</td>\n",
       "      <td>0</td>\n",
       "      <td>0</td>\n",
       "      <td>0</td>\n",
       "    </tr>\n",
       "  </tbody>\n",
       "</table>\n",
       "<p>4726 rows × 11 columns</p>\n",
       "</div>"
      ],
      "text/plain": [
       "            AAPL  AMZN  ATT  AUD  BOND  EUR  GE  GOLD  INTC  SILVER  SPY\n",
       "2000-01-28     0     0    0    1     0    1   1     0     0       0    1\n",
       "2000-01-31     0     0    0    0     0    0   0     0     0       0    0\n",
       "2000-02-01     0     0    0    0     0    0   0     0     0       0    0\n",
       "2000-02-02     0     0    0    0     0    0   0     0     0       0    0\n",
       "2000-02-03     0     0    0    0     0    0   0     0     0       0    0\n",
       "...          ...   ...  ...  ...   ...  ...  ..   ...   ...     ...  ...\n",
       "2018-12-24     0     0    0    0     0    0   0     0     0       0    0\n",
       "2018-12-26     0     0    0    0     0    0   0     0     0       0    0\n",
       "2018-12-27     0     0    0    0     0    0   0     0     0       0    0\n",
       "2018-12-28     0     0    0    0     0    0   0     0     0       0    0\n",
       "2018-12-31     0     0    0    0     0    0   0     0     0       0    0\n",
       "\n",
       "[4726 rows x 11 columns]"
      ]
     },
     "execution_count": 17,
     "metadata": {},
     "output_type": "execute_result"
    }
   ],
   "source": [
    "df_bb_position = pd.DataFrame(0, columns=df_bb.columns, index=df_bb.index)\n",
    "df_bb_position.iloc[0].loc[df_bb.iloc[0] >= df_bb_upper.iloc[0]] = -1\n",
    "df_bb_position.iloc[0].loc[df_bb.iloc[0] <= df_bb_lower.iloc[0]] = 1\n",
    "df_bb_position"
   ]
  },
  {
   "cell_type": "code",
   "execution_count": 18,
   "metadata": {
    "id": "5cJ5XS7zfyi9"
   },
   "outputs": [],
   "source": [
    "for i in range(1, len(df_bb)):\n",
    "    df_bb_position.iloc[i] = df_bb_position.iloc[i-1]\n",
    "    df_bb_position.iloc[i].loc[df_bb.iloc[i] >= df_bb_upper.iloc[i]] = -1\n",
    "    df_bb_position.iloc[i].loc[df_bb.iloc[i] <= df_bb_lower.iloc[i]] = 1\n",
    "    df_bb_position.iloc[i].loc[(df_bb_position.iloc[i-1] == -1) & (df_bb.iloc[i] <= df_bb_mean.iloc[i])] = 0\n",
    "    df_bb_position.iloc[i].loc[(df_bb_position.iloc[i-1] == 1) & (df_bb.iloc[i] >= df_bb_mean.iloc[i])] = 0\n",
    "    "
   ]
  },
  {
   "cell_type": "code",
   "execution_count": 19,
   "metadata": {
    "id": "Ec34GsMWfyi9",
    "outputId": "5dbe2f04-9f19-462f-9fec-1aa14b1aefac"
   },
   "outputs": [
    {
     "data": {
      "text/html": [
       "<div>\n",
       "<style scoped>\n",
       "    .dataframe tbody tr th:only-of-type {\n",
       "        vertical-align: middle;\n",
       "    }\n",
       "\n",
       "    .dataframe tbody tr th {\n",
       "        vertical-align: top;\n",
       "    }\n",
       "\n",
       "    .dataframe thead th {\n",
       "        text-align: right;\n",
       "    }\n",
       "</style>\n",
       "<table border=\"1\" class=\"dataframe\">\n",
       "  <thead>\n",
       "    <tr style=\"text-align: right;\">\n",
       "      <th></th>\n",
       "      <th>Sharpe</th>\n",
       "    </tr>\n",
       "  </thead>\n",
       "  <tbody>\n",
       "    <tr>\n",
       "      <th>AAPL</th>\n",
       "      <td>-0.430553</td>\n",
       "    </tr>\n",
       "    <tr>\n",
       "      <th>AMZN</th>\n",
       "      <td>0.285020</td>\n",
       "    </tr>\n",
       "    <tr>\n",
       "      <th>ATT</th>\n",
       "      <td>0.225470</td>\n",
       "    </tr>\n",
       "    <tr>\n",
       "      <th>AUD</th>\n",
       "      <td>-0.038171</td>\n",
       "    </tr>\n",
       "    <tr>\n",
       "      <th>BOND</th>\n",
       "      <td>-0.184488</td>\n",
       "    </tr>\n",
       "    <tr>\n",
       "      <th>EUR</th>\n",
       "      <td>-0.243416</td>\n",
       "    </tr>\n",
       "    <tr>\n",
       "      <th>GE</th>\n",
       "      <td>-0.251807</td>\n",
       "    </tr>\n",
       "    <tr>\n",
       "      <th>GOLD</th>\n",
       "      <td>0.075354</td>\n",
       "    </tr>\n",
       "    <tr>\n",
       "      <th>INTC</th>\n",
       "      <td>0.309995</td>\n",
       "    </tr>\n",
       "    <tr>\n",
       "      <th>SILVER</th>\n",
       "      <td>-0.129036</td>\n",
       "    </tr>\n",
       "    <tr>\n",
       "      <th>SPY</th>\n",
       "      <td>0.324043</td>\n",
       "    </tr>\n",
       "  </tbody>\n",
       "</table>\n",
       "</div>"
      ],
      "text/plain": [
       "          Sharpe\n",
       "AAPL   -0.430553\n",
       "AMZN    0.285020\n",
       "ATT     0.225470\n",
       "AUD    -0.038171\n",
       "BOND   -0.184488\n",
       "EUR    -0.243416\n",
       "GE     -0.251807\n",
       "GOLD    0.075354\n",
       "INTC    0.309995\n",
       "SILVER -0.129036\n",
       "SPY     0.324043"
      ]
     },
     "execution_count": 19,
     "metadata": {},
     "output_type": "execute_result"
    }
   ],
   "source": [
    "df_bb_return = df_bb_position.shift(1) * df_log\n",
    "pd.DataFrame(np.sqrt(annualization_factor) * df_bb_return.mean()/df_bb_return.std(), columns=['Sharpe'])"
   ]
  },
  {
   "cell_type": "markdown",
   "metadata": {
    "id": "z3f2s9IOfyi9"
   },
   "source": [
    "#### Recreating the DataFrame with best Moving Average"
   ]
  },
  {
   "cell_type": "code",
   "execution_count": 20,
   "metadata": {
    "id": "uUtt7D99fyi9",
    "outputId": "52ce3f35-86c9-49c2-cb2e-cb0ca84dc7aa"
   },
   "outputs": [
    {
     "data": {
      "text/plain": [
       "AAPL      1.018273\n",
       "AMZN      0.663285\n",
       "ATT      -0.166149\n",
       "AUD       0.145177\n",
       "BOND      0.308136\n",
       "EUR       0.288243\n",
       "GE        0.054362\n",
       "GOLD      0.439881\n",
       "INTC      0.037067\n",
       "SILVER    0.139625\n",
       "SPY       0.543433\n",
       "dtype: float64"
      ]
     },
     "execution_count": 20,
     "metadata": {},
     "output_type": "execute_result"
    }
   ],
   "source": [
    "# recreate the best MA\n",
    "df_position = movingAverageCrossover(df, 11, 220, 0)\n",
    "df_ma_return = df_position.shift(1) * df_log\n",
    "df_ma_return_cal = df_ma_return[220 - 1:]\n",
    "np.sqrt(annualization_factor) * df_ma_return_cal.mean()/df_ma_return_cal.std()"
   ]
  },
  {
   "cell_type": "markdown",
   "metadata": {
    "id": "ObBp2YeKfyi9"
   },
   "source": [
    "#### Creating the DataFrame which could give best Sharpe"
   ]
  },
  {
   "cell_type": "code",
   "execution_count": 21,
   "metadata": {
    "id": "bgk4fBc7fyi9"
   },
   "outputs": [],
   "source": [
    "df_portfolio_ma = df_ma_return_cal[['AAPL', 'AMZN', 'EUR', 'SPY', 'BOND']]\n",
    "df_portfolio_bb = df_bb_return[['ATT', 'INTC']].loc['2000-11-13':]\n",
    "df_portfolio_self = df_log['GOLD'].loc['2000-11-13':]"
   ]
  },
  {
   "cell_type": "code",
   "execution_count": 22,
   "metadata": {
    "id": "m_Xjka-tfyi9",
    "outputId": "6bfab73a-5bea-4264-f489-fb0c01742f37"
   },
   "outputs": [
    {
     "data": {
      "text/html": [
       "<style  type=\"text/css\" >\n",
       "</style><table id=\"T_232de_\" ><thead>    <tr>        <th class=\"blank level0\" ></th>        <th class=\"col_heading level0 col0\" >AAPL</th>        <th class=\"col_heading level0 col1\" >AMZN</th>        <th class=\"col_heading level0 col2\" >EUR</th>        <th class=\"col_heading level0 col3\" >SPY</th>        <th class=\"col_heading level0 col4\" >BOND</th>        <th class=\"col_heading level0 col5\" >ATT</th>        <th class=\"col_heading level0 col6\" >INTC</th>        <th class=\"col_heading level0 col7\" >GOLD</th>    </tr></thead><tbody>\n",
       "                <tr>\n",
       "                        <th id=\"T_232de_level0_row0\" class=\"row_heading level0 row0\" >Average Annual Return</th>\n",
       "                        <td id=\"T_232de_row0_col0\" class=\"data row0 col0\" >27.95%</td>\n",
       "                        <td id=\"T_232de_row0_col1\" class=\"data row0 col1\" >21.96%</td>\n",
       "                        <td id=\"T_232de_row0_col2\" class=\"data row0 col2\" >2.06%</td>\n",
       "                        <td id=\"T_232de_row0_col3\" class=\"data row0 col3\" >5.78%</td>\n",
       "                        <td id=\"T_232de_row0_col4\" class=\"data row0 col4\" >0.91%</td>\n",
       "                        <td id=\"T_232de_row0_col5\" class=\"data row0 col5\" >4.52%</td>\n",
       "                        <td id=\"T_232de_row0_col6\" class=\"data row0 col6\" >8.08%</td>\n",
       "                        <td id=\"T_232de_row0_col7\" class=\"data row0 col7\" >9.06%</td>\n",
       "            </tr>\n",
       "            <tr>\n",
       "                        <th id=\"T_232de_level0_row1\" class=\"row_heading level0 row1\" >Annual Risk</th>\n",
       "                        <td id=\"T_232de_row1_col0\" class=\"data row1 col0\" >27.45%</td>\n",
       "                        <td id=\"T_232de_row1_col1\" class=\"data row1 col1\" >33.10%</td>\n",
       "                        <td id=\"T_232de_row1_col2\" class=\"data row1 col2\" >7.16%</td>\n",
       "                        <td id=\"T_232de_row1_col3\" class=\"data row1 col3\" >10.63%</td>\n",
       "                        <td id=\"T_232de_row1_col4\" class=\"data row1 col4\" >2.94%</td>\n",
       "                        <td id=\"T_232de_row1_col5\" class=\"data row1 col5\" >19.25%</td>\n",
       "                        <td id=\"T_232de_row1_col6\" class=\"data row1 col6\" >25.56%</td>\n",
       "                        <td id=\"T_232de_row1_col7\" class=\"data row1 col7\" >17.92%</td>\n",
       "            </tr>\n",
       "            <tr>\n",
       "                        <th id=\"T_232de_level0_row2\" class=\"row_heading level0 row2\" >Sharpe Ratio</th>\n",
       "                        <td id=\"T_232de_row2_col0\" class=\"data row2 col0\" >1.018273</td>\n",
       "                        <td id=\"T_232de_row2_col1\" class=\"data row2 col1\" >0.663285</td>\n",
       "                        <td id=\"T_232de_row2_col2\" class=\"data row2 col2\" >0.288243</td>\n",
       "                        <td id=\"T_232de_row2_col3\" class=\"data row2 col3\" >0.543433</td>\n",
       "                        <td id=\"T_232de_row2_col4\" class=\"data row2 col4\" >0.308136</td>\n",
       "                        <td id=\"T_232de_row2_col5\" class=\"data row2 col5\" >0.234605</td>\n",
       "                        <td id=\"T_232de_row2_col6\" class=\"data row2 col6\" >0.316086</td>\n",
       "                        <td id=\"T_232de_row2_col7\" class=\"data row2 col7\" >0.505877</td>\n",
       "            </tr>\n",
       "            <tr>\n",
       "                        <th id=\"T_232de_level0_row3\" class=\"row_heading level0 row3\" >maxDD</th>\n",
       "                        <td id=\"T_232de_row3_col0\" class=\"data row3 col0\" >-56.05%</td>\n",
       "                        <td id=\"T_232de_row3_col1\" class=\"data row3 col1\" >-54.72%</td>\n",
       "                        <td id=\"T_232de_row3_col2\" class=\"data row3 col2\" >-22.97%</td>\n",
       "                        <td id=\"T_232de_row3_col3\" class=\"data row3 col3\" >-19.50%</td>\n",
       "                        <td id=\"T_232de_row3_col4\" class=\"data row3 col4\" >-9.13%</td>\n",
       "                        <td id=\"T_232de_row3_col5\" class=\"data row3 col5\" >-39.89%</td>\n",
       "                        <td id=\"T_232de_row3_col6\" class=\"data row3 col6\" >-45.75%</td>\n",
       "                        <td id=\"T_232de_row3_col7\" class=\"data row3 col7\" >-59.07%</td>\n",
       "            </tr>\n",
       "            <tr>\n",
       "                        <th id=\"T_232de_level0_row4\" class=\"row_heading level0 row4\" >Success Ratio</th>\n",
       "                        <td id=\"T_232de_row4_col0\" class=\"data row4 col0\" >65.91%</td>\n",
       "                        <td id=\"T_232de_row4_col1\" class=\"data row4 col1\" >66.88%</td>\n",
       "                        <td id=\"T_232de_row4_col2\" class=\"data row4 col2\" >71.56%</td>\n",
       "                        <td id=\"T_232de_row4_col3\" class=\"data row4 col3\" >69.58%</td>\n",
       "                        <td id=\"T_232de_row4_col4\" class=\"data row4 col4\" >71.25%</td>\n",
       "                        <td id=\"T_232de_row4_col5\" class=\"data row4 col5\" >74.50%</td>\n",
       "                        <td id=\"T_232de_row4_col6\" class=\"data row4 col6\" >74.57%</td>\n",
       "                        <td id=\"T_232de_row4_col7\" class=\"data row4 col7\" >53.00%</td>\n",
       "            </tr>\n",
       "    </tbody></table>"
      ],
      "text/plain": [
       "<pandas.io.formats.style.Styler at 0x7f977b4ec610>"
      ]
     },
     "metadata": {},
     "output_type": "display_data"
    }
   ],
   "source": [
    "# first selection\n",
    "df_portfolio = pd.merge(pd.merge(df_portfolio_ma, df_portfolio_bb, right_index=True, left_index=True),\n",
    "    df_portfolio_self, right_index=True, left_index=True)\n",
    "calc_summary_stats(df_portfolio)"
   ]
  },
  {
   "cell_type": "code",
   "execution_count": 23,
   "metadata": {
    "id": "yQfCpazZfyi9"
   },
   "outputs": [],
   "source": [
    "# BB for Q11\n",
    "df_bb_return.dropna(inplace=True)"
   ]
  },
  {
   "cell_type": "code",
   "execution_count": 24,
   "metadata": {
    "id": "2p-hwVhOfyi9"
   },
   "outputs": [],
   "source": [
    "# calculate log returns of the original prices\n",
    "logReturns = np.log(df/ df.shift(1))\n",
    "logReturns.iloc[0] = [0, 0, 0, 0, 0, 0, 0, 0, 0, 0, 0]"
   ]
  },
  {
   "cell_type": "code",
   "execution_count": 25,
   "metadata": {
    "id": "GiZ6dtVdfyi-",
    "outputId": "07dcbadd-740b-4c96-edaf-ec5c2d07eb57"
   },
   "outputs": [
    {
     "data": {
      "text/html": [
       "<div>\n",
       "<style scoped>\n",
       "    .dataframe tbody tr th:only-of-type {\n",
       "        vertical-align: middle;\n",
       "    }\n",
       "\n",
       "    .dataframe tbody tr th {\n",
       "        vertical-align: top;\n",
       "    }\n",
       "\n",
       "    .dataframe thead th {\n",
       "        text-align: right;\n",
       "    }\n",
       "</style>\n",
       "<table border=\"1\" class=\"dataframe\">\n",
       "  <thead>\n",
       "    <tr style=\"text-align: right;\">\n",
       "      <th></th>\n",
       "      <th>AAPL</th>\n",
       "      <th>AMZN</th>\n",
       "      <th>ATT</th>\n",
       "      <th>INTC</th>\n",
       "      <th>SPY</th>\n",
       "      <th>BOND</th>\n",
       "      <th>GOLD</th>\n",
       "      <th>EUR</th>\n",
       "    </tr>\n",
       "  </thead>\n",
       "  <tbody>\n",
       "    <tr>\n",
       "      <th>count</th>\n",
       "      <td>4745.000000</td>\n",
       "      <td>4745.000000</td>\n",
       "      <td>4745.000000</td>\n",
       "      <td>4745.000000</td>\n",
       "      <td>4745.000000</td>\n",
       "      <td>4745.000000</td>\n",
       "      <td>4745.000000</td>\n",
       "      <td>4745.000000</td>\n",
       "    </tr>\n",
       "    <tr>\n",
       "      <th>mean</th>\n",
       "      <td>0.000792</td>\n",
       "      <td>0.000628</td>\n",
       "      <td>-0.000113</td>\n",
       "      <td>0.000028</td>\n",
       "      <td>0.000112</td>\n",
       "      <td>0.000048</td>\n",
       "      <td>0.000315</td>\n",
       "      <td>0.000028</td>\n",
       "    </tr>\n",
       "    <tr>\n",
       "      <th>std</th>\n",
       "      <td>0.026857</td>\n",
       "      <td>0.033276</td>\n",
       "      <td>0.016508</td>\n",
       "      <td>0.023566</td>\n",
       "      <td>0.012167</td>\n",
       "      <td>0.002324</td>\n",
       "      <td>0.011047</td>\n",
       "      <td>0.006331</td>\n",
       "    </tr>\n",
       "    <tr>\n",
       "      <th>min</th>\n",
       "      <td>-0.731248</td>\n",
       "      <td>-0.284568</td>\n",
       "      <td>-0.135375</td>\n",
       "      <td>-0.248885</td>\n",
       "      <td>-0.103637</td>\n",
       "      <td>-0.012762</td>\n",
       "      <td>-0.095121</td>\n",
       "      <td>-0.027742</td>\n",
       "    </tr>\n",
       "    <tr>\n",
       "      <th>25%</th>\n",
       "      <td>-0.010792</td>\n",
       "      <td>-0.012556</td>\n",
       "      <td>-0.007382</td>\n",
       "      <td>-0.010556</td>\n",
       "      <td>-0.004887</td>\n",
       "      <td>-0.001318</td>\n",
       "      <td>-0.005073</td>\n",
       "      <td>-0.003669</td>\n",
       "    </tr>\n",
       "    <tr>\n",
       "      <th>50%</th>\n",
       "      <td>0.000713</td>\n",
       "      <td>0.000338</td>\n",
       "      <td>0.000267</td>\n",
       "      <td>0.000401</td>\n",
       "      <td>0.000547</td>\n",
       "      <td>0.000134</td>\n",
       "      <td>0.000376</td>\n",
       "      <td>0.000077</td>\n",
       "    </tr>\n",
       "    <tr>\n",
       "      <th>75%</th>\n",
       "      <td>0.013090</td>\n",
       "      <td>0.014106</td>\n",
       "      <td>0.007532</td>\n",
       "      <td>0.011120</td>\n",
       "      <td>0.005771</td>\n",
       "      <td>0.001458</td>\n",
       "      <td>0.006163</td>\n",
       "      <td>0.003614</td>\n",
       "    </tr>\n",
       "    <tr>\n",
       "      <th>max</th>\n",
       "      <td>0.128269</td>\n",
       "      <td>0.296181</td>\n",
       "      <td>0.173961</td>\n",
       "      <td>0.183345</td>\n",
       "      <td>0.120666</td>\n",
       "      <td>0.013117</td>\n",
       "      <td>0.102451</td>\n",
       "      <td>0.034506</td>\n",
       "    </tr>\n",
       "  </tbody>\n",
       "</table>\n",
       "</div>"
      ],
      "text/plain": [
       "              AAPL         AMZN          ATT         INTC          SPY  \\\n",
       "count  4745.000000  4745.000000  4745.000000  4745.000000  4745.000000   \n",
       "mean      0.000792     0.000628    -0.000113     0.000028     0.000112   \n",
       "std       0.026857     0.033276     0.016508     0.023566     0.012167   \n",
       "min      -0.731248    -0.284568    -0.135375    -0.248885    -0.103637   \n",
       "25%      -0.010792    -0.012556    -0.007382    -0.010556    -0.004887   \n",
       "50%       0.000713     0.000338     0.000267     0.000401     0.000547   \n",
       "75%       0.013090     0.014106     0.007532     0.011120     0.005771   \n",
       "max       0.128269     0.296181     0.173961     0.183345     0.120666   \n",
       "\n",
       "              BOND         GOLD          EUR  \n",
       "count  4745.000000  4745.000000  4745.000000  \n",
       "mean      0.000048     0.000315     0.000028  \n",
       "std       0.002324     0.011047     0.006331  \n",
       "min      -0.012762    -0.095121    -0.027742  \n",
       "25%      -0.001318    -0.005073    -0.003669  \n",
       "50%       0.000134     0.000376     0.000077  \n",
       "75%       0.001458     0.006163     0.003614  \n",
       "max       0.013117     0.102451     0.034506  "
      ]
     },
     "execution_count": 25,
     "metadata": {},
     "output_type": "execute_result"
    }
   ],
   "source": [
    "logReturns = logReturns[['AAPL','AMZN','ATT','INTC','SPY','BOND','GOLD','EUR']]\n",
    "logReturns.describe()"
   ]
  },
  {
   "cell_type": "code",
   "execution_count": 26,
   "metadata": {
    "id": "vtwrsNOMfyi-",
    "outputId": "7830d304-62e0-40b2-9719-96a107063973",
    "tags": []
   },
   "outputs": [
    {
     "data": {
      "text/html": [
       "<style  type=\"text/css\" >\n",
       "</style><table id=\"T_276c1_\" ><thead>    <tr>        <th class=\"blank level0\" ></th>        <th class=\"col_heading level0 col0\" >AAPL</th>        <th class=\"col_heading level0 col1\" >AMZN</th>        <th class=\"col_heading level0 col2\" >ATT</th>        <th class=\"col_heading level0 col3\" >INTC</th>        <th class=\"col_heading level0 col4\" >SPY</th>        <th class=\"col_heading level0 col5\" >BOND</th>        <th class=\"col_heading level0 col6\" >GOLD</th>        <th class=\"col_heading level0 col7\" >EUR</th>    </tr></thead><tbody>\n",
       "                <tr>\n",
       "                        <th id=\"T_276c1_level0_row0\" class=\"row_heading level0 row0\" >Average Annual Return</th>\n",
       "                        <td id=\"T_276c1_row0_col0\" class=\"data row0 col0\" >20.60%</td>\n",
       "                        <td id=\"T_276c1_row0_col1\" class=\"data row0 col1\" >16.34%</td>\n",
       "                        <td id=\"T_276c1_row0_col2\" class=\"data row0 col2\" >-2.93%</td>\n",
       "                        <td id=\"T_276c1_row0_col3\" class=\"data row0 col3\" >0.72%</td>\n",
       "                        <td id=\"T_276c1_row0_col4\" class=\"data row0 col4\" >2.91%</td>\n",
       "                        <td id=\"T_276c1_row0_col5\" class=\"data row0 col5\" >1.24%</td>\n",
       "                        <td id=\"T_276c1_row0_col6\" class=\"data row0 col6\" >8.18%</td>\n",
       "                        <td id=\"T_276c1_row0_col7\" class=\"data row0 col7\" >0.72%</td>\n",
       "            </tr>\n",
       "            <tr>\n",
       "                        <th id=\"T_276c1_level0_row1\" class=\"row_heading level0 row1\" >Annual Risk</th>\n",
       "                        <td id=\"T_276c1_row1_col0\" class=\"data row1 col0\" >43.31%</td>\n",
       "                        <td id=\"T_276c1_row1_col1\" class=\"data row1 col1\" >53.66%</td>\n",
       "                        <td id=\"T_276c1_row1_col2\" class=\"data row1 col2\" >26.62%</td>\n",
       "                        <td id=\"T_276c1_row1_col3\" class=\"data row1 col3\" >38.00%</td>\n",
       "                        <td id=\"T_276c1_row1_col4\" class=\"data row1 col4\" >19.62%</td>\n",
       "                        <td id=\"T_276c1_row1_col5\" class=\"data row1 col5\" >3.75%</td>\n",
       "                        <td id=\"T_276c1_row1_col6\" class=\"data row1 col6\" >17.81%</td>\n",
       "                        <td id=\"T_276c1_row1_col7\" class=\"data row1 col7\" >10.21%</td>\n",
       "            </tr>\n",
       "            <tr>\n",
       "                        <th id=\"T_276c1_level0_row2\" class=\"row_heading level0 row2\" >Sharpe Ratio</th>\n",
       "                        <td id=\"T_276c1_row2_col0\" class=\"data row2 col0\" >0.475784</td>\n",
       "                        <td id=\"T_276c1_row2_col1\" class=\"data row2 col1\" >0.304546</td>\n",
       "                        <td id=\"T_276c1_row2_col2\" class=\"data row2 col2\" >-0.110211</td>\n",
       "                        <td id=\"T_276c1_row2_col3\" class=\"data row2 col3\" >0.018931</td>\n",
       "                        <td id=\"T_276c1_row2_col4\" class=\"data row2 col4\" >0.148466</td>\n",
       "                        <td id=\"T_276c1_row2_col5\" class=\"data row2 col5\" >0.331087</td>\n",
       "                        <td id=\"T_276c1_row2_col6\" class=\"data row2 col6\" >0.459431</td>\n",
       "                        <td id=\"T_276c1_row2_col7\" class=\"data row2 col7\" >0.070160</td>\n",
       "            </tr>\n",
       "            <tr>\n",
       "                        <th id=\"T_276c1_level0_row3\" class=\"row_heading level0 row3\" >maxDD</th>\n",
       "                        <td id=\"T_276c1_row3_col0\" class=\"data row3 col0\" >-170.38%</td>\n",
       "                        <td id=\"T_276c1_row3_col1\" class=\"data row3 col1\" >-270.61%</td>\n",
       "                        <td id=\"T_276c1_row3_col2\" class=\"data row3 col2\" >-110.69%</td>\n",
       "                        <td id=\"T_276c1_row3_col3\" class=\"data row3 col3\" >-182.43%</td>\n",
       "                        <td id=\"T_276c1_row3_col4\" class=\"data row3 col4\" >-83.18%</td>\n",
       "                        <td id=\"T_276c1_row3_col5\" class=\"data row3 col5\" >-14.21%</td>\n",
       "                        <td id=\"T_276c1_row3_col6\" class=\"data row3 col6\" >-59.07%</td>\n",
       "                        <td id=\"T_276c1_row3_col7\" class=\"data row3 col7\" >-43.14%</td>\n",
       "            </tr>\n",
       "            <tr>\n",
       "                        <th id=\"T_276c1_level0_row4\" class=\"row_heading level0 row4\" >Success Ratio</th>\n",
       "                        <td id=\"T_276c1_row4_col0\" class=\"data row4 col0\" >52.24%</td>\n",
       "                        <td id=\"T_276c1_row4_col1\" class=\"data row4 col1\" >51.23%</td>\n",
       "                        <td id=\"T_276c1_row4_col2\" class=\"data row4 col2\" >51.65%</td>\n",
       "                        <td id=\"T_276c1_row4_col3\" class=\"data row4 col3\" >51.70%</td>\n",
       "                        <td id=\"T_276c1_row4_col4\" class=\"data row4 col4\" >53.95%</td>\n",
       "                        <td id=\"T_276c1_row4_col5\" class=\"data row4 col5\" >52.48%</td>\n",
       "                        <td id=\"T_276c1_row4_col6\" class=\"data row4 col6\" >52.46%</td>\n",
       "                        <td id=\"T_276c1_row4_col7\" class=\"data row4 col7\" >51.00%</td>\n",
       "            </tr>\n",
       "    </tbody></table>"
      ],
      "text/plain": [
       "<pandas.io.formats.style.Styler at 0x7f977b48a310>"
      ]
     },
     "metadata": {},
     "output_type": "display_data"
    }
   ],
   "source": [
    "calc_summary_stats(logReturns)"
   ]
  },
  {
   "cell_type": "markdown",
   "metadata": {
    "id": "MKjGbKz9fyi-"
   },
   "source": [
    "The constructed portfolios are :\n",
    "\n",
    "  1.  **df_portfolio** -- Which should give us the max Sharpe\n",
    "  2.  **df_ma_return_cal** -- DataFrame in which each instrument has MA applied with fast window of 11 and     slow window of 220 and flatOrShort is 0 (to be used in question 11)\n",
    "  3.  **df_bb_return** -- DataFrame in which each instrument has 20 day/2-stdev BB stratergy applied (to be used in question 11)\n",
    "  4.  **logReturns** -- DataFrame with logReturns for each instrument (to be used in question 11)"
   ]
  },
  {
   "cell_type": "markdown",
   "metadata": {},
   "source": [
    "### Reasons for Portfolio Choice\n",
    "\n",
    "- For Commodity and Currency we can see that their correlation is very similar so we decided to go with one with higher Sharpe to go into our portfolio\n",
    "\n",
    "- To choose the 5 equities for our portfolio, we decided to compare them via 2 factors. \n",
    "    1) Correlation \n",
    "    2) Sharpe on log returns. \n",
    "\n",
    "While comparing the correlation table, we saw that AAPL, AMZN, SPY were positively correlated with each other while the other 3 were neither positively or negatively correlated. So it would make sense to choose the other 3 and 2 from AAPL, AMZN and SPY for a **diversified portfolio**. \n",
    "\n",
    "On the contrary, when we look at individual Sharpe, we see that AAPL has the highest Sharpe followed by AMZN and SPY while GE and ATT have a negative Sharpe. Though taking a negative Sharpe might increase the overall portfolio, we felt that GE had a very small Sharpe and would negatively impact our portfolio and hence we decided to drop GE and choose the rest of the equities.\n",
    "\n",
    "While deciding on the strategy, we chose AAPL as our reference as that gave us the highest possible sharpe, and tried the MA strategy going both short and flat to choose the best possible window. After running it through all the possible windows, we saw that choosing **11 as our fast window, 220 as our slow window and going flat** was giving us the most optimal results. So we ran the MA strategy through all the equities and saw that AAPL, AMZN and SPY gave us the highest Sharpe in the equities along with BOND and EUR. For our other equities, we saw that **BB strategy** gave us a better Sharpe than MA and hence we chose to utilise this strategy. Lastly, for GOLD, we saw that the log returns gave us the best Sharpe rather than using any possible strategy and hence we went ahead with that.\n",
    "\n",
    "Hence based on the above explanation, we have chosen **AAPL, AMZN, SPY, ATT, INTC, BOND, GOLD and EUR** as the equities for our portfolio."
   ]
  },
  {
   "cell_type": "markdown",
   "metadata": {
    "id": "u1ixJpFYfyi-"
   },
   "source": [
    "### Mean-Variance optimization "
   ]
  },
  {
   "cell_type": "code",
   "execution_count": 27,
   "metadata": {
    "id": "DPP0LmH5fyi-"
   },
   "outputs": [],
   "source": [
    "# Function Definition for Frontier (Mean Variance Optimization Generation)\n",
    "def mean_variace_optimizer(Returns):\n",
    "    ## Frontier generation\n",
    "    # initialize return and risk\n",
    "    prets = []\n",
    "    pvols = []\n",
    "    num_points = 5000\n",
    "    # generate random numbers\n",
    "    rng = np.random.default_rng(seed=42)\n",
    "    for p in range(num_points):\n",
    "        wts = rng.random(Returns.shape[1])\n",
    "        # normalising weights\n",
    "        wts /= np.sum(wts)\n",
    "        # matrix computation\n",
    "        prets.append(annualization_factor * np.dot(wts, Returns.mean().T))\n",
    "        pvols.append(np.sqrt(annualization_factor) * np.sqrt(np.dot(np.dot(wts, Returns.cov()), wts.T)))\n",
    "    prets = np.array(prets)\n",
    "    pvols = np.array(pvols)\n",
    "    return prets, pvols\n"
   ]
  },
  {
   "cell_type": "code",
   "execution_count": 28,
   "metadata": {
    "id": "8DR23EJ1fyi-"
   },
   "outputs": [],
   "source": [
    "# Function Definition to Compute the Min Volume weights and Max Sharpe Profile Weights\n",
    "def weight_calculation(Returns,prets, pvols):\n",
    "    # minimum volume and max sharpe weights\n",
    "    minvol = np.min(pvols)\n",
    "    maxsharpe = np.max(prets/pvols)\n",
    "    rng = np.random.default_rng(seed=42) \n",
    "    for p in range(5000):\n",
    "        wts = rng.random(Returns.shape[1])\n",
    "        wts /= np.sum(wts)\n",
    "        pret = annualization_factor * np.dot(wts, Returns.mean().T)\n",
    "        pvol = np.sqrt(annualization_factor) * np.sqrt(np.dot(np.dot(wts, Returns.cov()), wts.T))\n",
    "        if pvol == minvol:\n",
    "            print(f'Minimum Volume Portfolio Weights: {wts}')\n",
    "            min_vol_weights = wts\n",
    "        if pret/pvol == maxsharpe:\n",
    "            print(f'Max Sharpe Portfolio Weights: {wts}')\n",
    "            max_sharpe_weights = wts\n",
    "    return min_vol_weights, max_sharpe_weights \n",
    "    \n",
    "    \n",
    "    "
   ]
  },
  {
   "cell_type": "markdown",
   "metadata": {
    "id": "dqwb4mqrfyi-"
   },
   "source": [
    "### Plot for Return and Risk Curve"
   ]
  },
  {
   "cell_type": "code",
   "execution_count": 29,
   "metadata": {
    "id": "XVYZwzcNfyi-"
   },
   "outputs": [],
   "source": [
    "def efficent_frontier_plot(prets, pvols):\n",
    "    plt.figure(figsize=aspect_ratio)\n",
    "    ax = plt.subplot()\n",
    "    # Define sharp ratio as color marker\n",
    "    plt.scatter(pvols, prets, c = prets/pvols, marker='o', cmap='coolwarm_r')\n",
    "    ax.xaxis.set_major_formatter(mtick.PercentFormatter(xmax=1.0, decimals=0))\n",
    "    ax.yaxis.set_major_formatter(mtick.PercentFormatter(xmax=1.0, decimals=0))\n",
    "    plt.title('Return vs Risk for Different Instrument weights Color Coded by Sharpe Ratio')\n",
    "    plt.xlabel('Portfolio Risk')\n",
    "    plt.ylabel('Portfolio Return')\n",
    "    plt.colorbar(label='Sharpe Ratio')\n",
    "    # Set appropriate legends and mark the Min Vol & Max sharpe Profile\n",
    "    plt.plot(pvols[np.argmin(pvols)], prets[np.argmin(pvols)], 'b*', markersize=15.0, label='Min Vol Portfolio:x={:.2%}; y={:.2%}; {:1.2f}'.format(pvols[np.argmin(pvols)], prets[np.argmin(pvols)], prets[np.argmin(pvols)]/pvols[np.argmin(pvols)])) \n",
    "    plt.plot(pvols[np.argmax(prets/pvols)], prets[np.argmax(prets/pvols)], 'r*', markersize=15.0, label='Max Sharpe Portfolio:x={:.2%}; y={:.2%}; {:1.2f}'.format(pvols[np.argmax(prets/pvols)], prets[np.argmax(prets/pvols)], np.max(prets/pvols)))\n",
    "    plt.legend()"
   ]
  },
  {
   "cell_type": "markdown",
   "metadata": {
    "id": "IRkUdFP1fyi-",
    "tags": []
   },
   "source": [
    "### Mean Variance Calculation for Best Portfolio"
   ]
  },
  {
   "cell_type": "code",
   "execution_count": 30,
   "metadata": {
    "id": "Gy_hnSJEfyi_",
    "outputId": "415d35ca-c5bc-4f35-94b3-864510af3461",
    "tags": []
   },
   "outputs": [
    {
     "name": "stdout",
     "output_type": "stream",
     "text": [
      "Max Sharpe Portfolio Weights: [0.20906911 0.09258164 0.03466735 0.09867297 0.23694407 0.05273158\n",
      " 0.04299552 0.23233776]\n",
      "Minimum Volume Portfolio Weights: [0.02228058 0.04103796 0.22833789 0.18335454 0.28767587 0.07081066\n",
      " 0.04153957 0.12496294]\n"
     ]
    }
   ],
   "source": [
    "prets,pvols = mean_variace_optimizer(df_portfolio)\n",
    "min_vol_weights, max_sharpe_weights  = weight_calculation(df_portfolio, prets, pvols)"
   ]
  },
  {
   "cell_type": "code",
   "execution_count": 31,
   "metadata": {
    "id": "M2KbQNjAfyi_",
    "outputId": "ba3d8796-c79c-4a1f-d765-5c278d54716f"
   },
   "outputs": [
    {
     "data": {
      "image/png": "[encoded data removed]",
      "text/plain": [
       "<Figure size 576x360 with 2 Axes>"
      ]
     },
     "metadata": {
      "needs_background": "light"
     },
     "output_type": "display_data"
    }
   ],
   "source": [
    "# Plot the min vol and max Sharpe portfolio\n",
    "efficent_frontier_plot(prets, pvols)"
   ]
  },
  {
   "cell_type": "markdown",
   "metadata": {
    "id": "_k9j7Nwqfyi_"
   },
   "source": [
    " Mark the minimum vol portfolio with a blue star. Present the weights of this portfolio and rationalize the weight vector, i.e., give a plausible explanation for that choice of weights. Note down the risk, return and Sharpe of this portfolio.\n",
    " \n",
    "**The weight vector associated with the Minimum volume portfolio is [0.02228058 0.04103796 0.22833789 0.18335454 0.28767587 0.07081066 0.04153957 0.12496294] (calculated above). We obseverd that we have the highest weights associated with EUR,BOND, SPY and GOLD and from the summary statistics we know that these instruments have lower risk associated with them. This is the reason for the choice of the weights in Min Volume portfolio.**\n",
    "\n",
    "**The Portfolio risk is 4.94%, the portfolio Return is 5.10% and the sharpe ratio is 1.03**."
   ]
  },
  {
   "cell_type": "markdown",
   "metadata": {
    "id": "eHibzeA_fyi_"
   },
   "source": [
    "Mark the maximum Sharpe portfolio with a red star. Present the weights of this portfolio and rationalize the weight vector, i.e., give a plausible explanation for that choice of weights. Note down the risk, return and Sharpe of this portfolio.\n",
    "\n",
    "**Max Sharpe Portfolio Weights:[0.20906911 0.09258164 0.03466735 0.09867297 0.23694407 0.05273158\n",
    " 0.04299552 0.23233776](calculated above).For the max portfolio weights, the weights are mostly allocated to the instrument (Apple) with the highest expected returns and to the instrument with the least risk (BOND) since the weight distribution is trying to achieve an optimized Sharpe for the portfolio. Since the mean-variance tries to compute the optimal portfolio weights based on their preferred level of risk.**\n",
    " \n",
    "**The Portfolio risk is 8.96%, the portfolio return is 11.42% and the Sharpe ratio is 1.28**.\n"
   ]
  },
  {
   "cell_type": "markdown",
   "metadata": {
    "id": "U3wT7Vixfyi_"
   },
   "source": [
    "### Equal Weighted Portfolio "
   ]
  },
  {
   "cell_type": "code",
   "execution_count": 32,
   "metadata": {
    "id": "5k0FlnvDfyi_",
    "outputId": "e906cf20-948a-41ee-e626-2bf4bdec63f6"
   },
   "outputs": [
    {
     "data": {
      "text/plain": [
       "array([0.125, 0.125, 0.125, 0.125, 0.125, 0.125, 0.125, 0.125])"
      ]
     },
     "execution_count": 32,
     "metadata": {},
     "output_type": "execute_result"
    }
   ],
   "source": [
    "# Generating an equal weight array\n",
    "weights = [0.125]*8\n",
    "weights = np.array(weights)\n",
    "weights"
   ]
  },
  {
   "cell_type": "code",
   "execution_count": 33,
   "metadata": {
    "id": "dq2LFOygfyi_"
   },
   "outputs": [],
   "source": [
    "equ_wtd_port = pd.DataFrame((weights*df_portfolio).sum(axis=1),columns=['equal weighted port'])"
   ]
  },
  {
   "cell_type": "code",
   "execution_count": 34,
   "metadata": {
    "id": "noGzKcV9fyi_",
    "outputId": "7520b2a7-93de-4ef6-a72d-833d73e72c3f"
   },
   "outputs": [
    {
     "data": {
      "text/html": [
       "<style  type=\"text/css\" >\n",
       "</style><table id=\"T_78cc8_\" ><thead>    <tr>        <th class=\"blank level0\" ></th>        <th class=\"col_heading level0 col0\" >equal weighted port</th>    </tr></thead><tbody>\n",
       "                <tr>\n",
       "                        <th id=\"T_78cc8_level0_row0\" class=\"row_heading level0 row0\" >Average Annual Return</th>\n",
       "                        <td id=\"T_78cc8_row0_col0\" class=\"data row0 col0\" >10.04%</td>\n",
       "            </tr>\n",
       "            <tr>\n",
       "                        <th id=\"T_78cc8_level0_row1\" class=\"row_heading level0 row1\" >Annual Risk</th>\n",
       "                        <td id=\"T_78cc8_row1_col0\" class=\"data row1 col0\" >8.58%</td>\n",
       "            </tr>\n",
       "            <tr>\n",
       "                        <th id=\"T_78cc8_level0_row2\" class=\"row_heading level0 row2\" >Sharpe Ratio</th>\n",
       "                        <td id=\"T_78cc8_row2_col0\" class=\"data row2 col0\" >1.170235</td>\n",
       "            </tr>\n",
       "            <tr>\n",
       "                        <th id=\"T_78cc8_level0_row3\" class=\"row_heading level0 row3\" >maxDD</th>\n",
       "                        <td id=\"T_78cc8_row3_col0\" class=\"data row3 col0\" >-19.87%</td>\n",
       "            </tr>\n",
       "            <tr>\n",
       "                        <th id=\"T_78cc8_level0_row4\" class=\"row_heading level0 row4\" >Success Ratio</th>\n",
       "                        <td id=\"T_78cc8_row4_col0\" class=\"data row4 col0\" >54.55%</td>\n",
       "            </tr>\n",
       "    </tbody></table>"
      ],
      "text/plain": [
       "<pandas.io.formats.style.Styler at 0x7f9789788460>"
      ]
     },
     "metadata": {},
     "output_type": "display_data"
    }
   ],
   "source": [
    "calc_summary_stats(equ_wtd_port)"
   ]
  },
  {
   "cell_type": "markdown",
   "metadata": {
    "id": "hCdwYounfyi_"
   },
   "source": [
    "**Sharpe Ratio of equal weighted portfolio is 1.17 which is less than 1.28, the Sharpe ratio for Max Sharpe portfolio**."
   ]
  },
  {
   "cell_type": "markdown",
   "metadata": {
    "id": "P5dHRCiNfyi_"
   },
   "source": [
    "### Beta Calculation for Max Sharpe Portfolio"
   ]
  },
  {
   "cell_type": "markdown",
   "metadata": {
    "id": "vrarJJYtfyi_"
   },
   "source": [
    "**Beta's of securities is calculated against the benchmark, which is often \"the market,\" i.e., the S&P 500**"
   ]
  },
  {
   "cell_type": "code",
   "execution_count": 35,
   "metadata": {
    "id": "BtWNZgmvfyi_"
   },
   "outputs": [],
   "source": [
    "# using max_sharpe_weights calculated above\n",
    "max_wtd_port = pd.DataFrame((max_sharpe_weights*df_portfolio).sum(axis=1),columns=['Port'])\n",
    "df_portfolio = df_portfolio.join(max_wtd_port, how= 'inner')\n"
   ]
  },
  {
   "cell_type": "code",
   "execution_count": 36,
   "metadata": {
    "id": "EvUWETQNfyi_",
    "outputId": "8db0bcad-65c1-4bb1-914f-1c9949b03fe9"
   },
   "outputs": [
    {
     "data": {
      "text/html": [
       "<div>\n",
       "<style scoped>\n",
       "    .dataframe tbody tr th:only-of-type {\n",
       "        vertical-align: middle;\n",
       "    }\n",
       "\n",
       "    .dataframe tbody tr th {\n",
       "        vertical-align: top;\n",
       "    }\n",
       "\n",
       "    .dataframe thead th {\n",
       "        text-align: right;\n",
       "    }\n",
       "</style>\n",
       "<table border=\"1\" class=\"dataframe\">\n",
       "  <thead>\n",
       "    <tr style=\"text-align: right;\">\n",
       "      <th></th>\n",
       "      <th>AAPL</th>\n",
       "      <th>AMZN</th>\n",
       "      <th>EUR</th>\n",
       "      <th>SPY</th>\n",
       "      <th>BOND</th>\n",
       "      <th>ATT</th>\n",
       "      <th>INTC</th>\n",
       "      <th>GOLD</th>\n",
       "      <th>Port</th>\n",
       "    </tr>\n",
       "  </thead>\n",
       "  <tbody>\n",
       "    <tr>\n",
       "      <th>2000-11-13</th>\n",
       "      <td>0.0</td>\n",
       "      <td>-0.0</td>\n",
       "      <td>-0.0</td>\n",
       "      <td>-0.0</td>\n",
       "      <td>0.000000</td>\n",
       "      <td>-0.015201</td>\n",
       "      <td>0.0</td>\n",
       "      <td>-0.001512</td>\n",
       "      <td>-0.001153</td>\n",
       "    </tr>\n",
       "    <tr>\n",
       "      <th>2000-11-14</th>\n",
       "      <td>0.0</td>\n",
       "      <td>0.0</td>\n",
       "      <td>0.0</td>\n",
       "      <td>0.0</td>\n",
       "      <td>0.000646</td>\n",
       "      <td>0.011924</td>\n",
       "      <td>0.0</td>\n",
       "      <td>0.001134</td>\n",
       "      <td>0.001045</td>\n",
       "    </tr>\n",
       "    <tr>\n",
       "      <th>2000-11-15</th>\n",
       "      <td>-0.0</td>\n",
       "      <td>0.0</td>\n",
       "      <td>-0.0</td>\n",
       "      <td>0.0</td>\n",
       "      <td>0.001475</td>\n",
       "      <td>-0.000000</td>\n",
       "      <td>0.0</td>\n",
       "      <td>0.001322</td>\n",
       "      <td>0.000657</td>\n",
       "    </tr>\n",
       "    <tr>\n",
       "      <th>2000-11-16</th>\n",
       "      <td>-0.0</td>\n",
       "      <td>-0.0</td>\n",
       "      <td>-0.0</td>\n",
       "      <td>-0.0</td>\n",
       "      <td>0.001218</td>\n",
       "      <td>-0.013001</td>\n",
       "      <td>-0.0</td>\n",
       "      <td>0.005644</td>\n",
       "      <td>0.000915</td>\n",
       "    </tr>\n",
       "    <tr>\n",
       "      <th>2000-11-17</th>\n",
       "      <td>-0.0</td>\n",
       "      <td>-0.0</td>\n",
       "      <td>-0.0</td>\n",
       "      <td>-0.0</td>\n",
       "      <td>-0.001612</td>\n",
       "      <td>0.036168</td>\n",
       "      <td>0.0</td>\n",
       "      <td>-0.002818</td>\n",
       "      <td>0.000871</td>\n",
       "    </tr>\n",
       "  </tbody>\n",
       "</table>\n",
       "</div>"
      ],
      "text/plain": [
       "            AAPL  AMZN  EUR  SPY      BOND       ATT  INTC      GOLD      Port\n",
       "2000-11-13   0.0  -0.0 -0.0 -0.0  0.000000 -0.015201   0.0 -0.001512 -0.001153\n",
       "2000-11-14   0.0   0.0  0.0  0.0  0.000646  0.011924   0.0  0.001134  0.001045\n",
       "2000-11-15  -0.0   0.0 -0.0  0.0  0.001475 -0.000000   0.0  0.001322  0.000657\n",
       "2000-11-16  -0.0  -0.0 -0.0 -0.0  0.001218 -0.013001  -0.0  0.005644  0.000915\n",
       "2000-11-17  -0.0  -0.0 -0.0 -0.0 -0.001612  0.036168   0.0 -0.002818  0.000871"
      ]
     },
     "execution_count": 36,
     "metadata": {},
     "output_type": "execute_result"
    }
   ],
   "source": [
    "df_portfolio.head()"
   ]
  },
  {
   "cell_type": "code",
   "execution_count": 37,
   "metadata": {
    "id": "QYJHp9BPfyjA"
   },
   "outputs": [],
   "source": [
    "port_Reg = LinearRegression().fit(df_portfolio[['SPY']], df_portfolio['Port'])"
   ]
  },
  {
   "cell_type": "code",
   "execution_count": 38,
   "metadata": {
    "id": "fT2jnbrEfyjA",
    "outputId": "c703b74c-0415-4d07-d97f-282c1ed40510"
   },
   "outputs": [
    {
     "data": {
      "text/plain": [
       "0.000345994425717673"
      ]
     },
     "execution_count": 38,
     "metadata": {},
     "output_type": "execute_result"
    }
   ],
   "source": [
    "port_Reg.intercept_"
   ]
  },
  {
   "cell_type": "code",
   "execution_count": 39,
   "metadata": {
    "id": "d5Nj0-73fyjA",
    "outputId": "ee9490f1-ae32-466c-9a32-87af9fa50066"
   },
   "outputs": [
    {
     "name": "stdout",
     "output_type": "stream",
     "text": [
      "The beta for the Max Sharpe Portfolio is: 0.420\n"
     ]
    }
   ],
   "source": [
    "port_beta = port_Reg.coef_\n",
    "print ('The beta for the Max Sharpe Portfolio is: {0:.3f}'.format(port_beta[0]))"
   ]
  },
  {
   "cell_type": "code",
   "execution_count": 40,
   "metadata": {
    "id": "-9neHETXfyjA"
   },
   "outputs": [],
   "source": [
    "port_Predicted = port_Reg.predict(df_portfolio[['SPY']])"
   ]
  },
  {
   "cell_type": "code",
   "execution_count": 41,
   "metadata": {
    "id": "Y3FdxBkPfyjA"
   },
   "outputs": [],
   "source": [
    "# the r-squared of the fit\n",
    "port_r2 = port_Reg.score(df_portfolio[['SPY']], df_portfolio['Port'])"
   ]
  },
  {
   "cell_type": "code",
   "execution_count": 42,
   "metadata": {
    "id": "C985sEcsfyjA",
    "outputId": "225865dd-8f73-4a83-dbea-3642520642fa"
   },
   "outputs": [
    {
     "data": {
      "text/plain": [
       "Text(-0.01, -0.035, 'Linear Fit:y=+0.000346 +0.420481x\\nR-squared: 0.248761')"
      ]
     },
     "execution_count": 42,
     "metadata": {},
     "output_type": "execute_result"
    },
    {
     "data": {
      "image/png": "[encoded data removed]",
      "text/plain": [
       "<Figure size 576x360 with 1 Axes>"
      ]
     },
     "metadata": {
      "needs_background": "light"
     },
     "output_type": "display_data"
    }
   ],
   "source": [
    "# plotting the scatter plot and overlaying it with the regression line\n",
    "plt.figure(figsize=aspect_ratio)\n",
    "ax = plt.subplot()\n",
    "plt.scatter(df_portfolio['SPY'], df_portfolio['Port'], marker='o', label='actual')\n",
    "ax.xaxis.set_major_formatter(mtick.PercentFormatter(xmax=1.0, decimals=0))\n",
    "ax.yaxis.set_major_formatter(mtick.PercentFormatter(xmax=1.0, decimals=0))\n",
    "plt.title('Max Sharpe Port vs SPY actual daily returns overlaid with an OLS regression line')\n",
    "plt.xlabel('SPY Return')\n",
    "plt.ylabel('Port Return')\n",
    "plt.plot(df_portfolio['SPY'], port_Predicted, marker='.', c='r', markersize=1.0, lw=0.5, label='regression line')\n",
    "plt.legend()\n",
    "plt.grid()\n",
    "plt.text(-0.01, -0.035, 'Linear Fit:y={:+.6f} {:+.6f}x\\nR-squared: {:.6f}'.format(port_Reg.intercept_, port_Reg.coef_[0], port_r2), bbox = dict(alpha=0.1))"
   ]
  },
  {
   "cell_type": "markdown",
   "metadata": {
    "id": "R0ixNBC9fyjA"
   },
   "source": [
    "### Mean Variance for Frame with Benchmark/base-case Instruments"
   ]
  },
  {
   "cell_type": "code",
   "execution_count": 43,
   "metadata": {
    "id": "3r7Tg2aIfyjA",
    "outputId": "14fcaf4e-ba19-4be8-83e0-e568e15dc037"
   },
   "outputs": [
    {
     "name": "stdout",
     "output_type": "stream",
     "text": [
      "Minimum Volume Portfolio Weights: [0.01363211 0.02864231 0.01890101 0.0085588  0.0535891  0.30046933\n",
      " 0.27979313 0.29641421]\n",
      "Max Sharpe Portfolio Weights: [0.24994123 0.02908779 0.09147803 0.02372614 0.01549256 0.11244263\n",
      " 0.468526   0.00930562]\n"
     ]
    }
   ],
   "source": [
    "prets,pvols = mean_variace_optimizer(logReturns)\n",
    "min_vol_weights, max_sharpe_weights  = weight_calculation(logReturns, prets, pvols)"
   ]
  },
  {
   "cell_type": "code",
   "execution_count": 44,
   "metadata": {
    "id": "tv4E0tDFfyjA",
    "outputId": "d778a46c-c522-46db-d44a-c98f6a47b539"
   },
   "outputs": [
    {
     "data": {
      "image/png": "[encoded data removed]",
      "text/plain": [
       "<Figure size 576x360 with 2 Axes>"
      ]
     },
     "metadata": {
      "needs_background": "light"
     },
     "output_type": "display_data"
    }
   ],
   "source": [
    "efficent_frontier_plot(prets, pvols)"
   ]
  },
  {
   "cell_type": "markdown",
   "metadata": {
    "id": "x-cAkC1kfyjA",
    "tags": []
   },
   "source": [
    "### Mean Variance for Frame with MA Stratergy for all Instruments"
   ]
  },
  {
   "cell_type": "code",
   "execution_count": 45,
   "metadata": {
    "id": "lxfX0xuWfyjA",
    "outputId": "a210fe9f-2a7a-4825-e736-79bd5820a5a1"
   },
   "outputs": [
    {
     "name": "stdout",
     "output_type": "stream",
     "text": [
      "Minimum Volume Portfolio Weights: [0.00672607 0.0592206  0.12545184 0.10447407 0.25381526 0.20698326\n",
      " 0.02042717 0.04152291 0.00694931 0.03611322 0.1383163 ]\n",
      "Max Sharpe Portfolio Weights: [0.21330744 0.10204319 0.05084181 0.02819197 0.13007315 0.03237864\n",
      " 0.0401095  0.20864195 0.00639097 0.04093946 0.14708191]\n"
     ]
    }
   ],
   "source": [
    "prets,pvols = mean_variace_optimizer(df_ma_return_cal)\n",
    "min_vol_weights, max_sharpe_weights  = weight_calculation(df_ma_return_cal, prets, pvols)"
   ]
  },
  {
   "cell_type": "code",
   "execution_count": 46,
   "metadata": {
    "id": "sCEaR6olfyjA",
    "outputId": "f2bc6ff4-75b4-4476-caf6-c5801cfa9cc8"
   },
   "outputs": [
    {
     "data": {
      "image/png": "[encoded data removed]",
      "text/plain": [
       "<Figure size 576x360 with 2 Axes>"
      ]
     },
     "metadata": {
      "needs_background": "light"
     },
     "output_type": "display_data"
    }
   ],
   "source": [
    "efficent_frontier_plot(prets, pvols)"
   ]
  },
  {
   "cell_type": "markdown",
   "metadata": {
    "id": "I4a4j4IEfyjA"
   },
   "source": [
    "### Frame with BB Strategy for all Instruments"
   ]
  },
  {
   "cell_type": "code",
   "execution_count": 47,
   "metadata": {
    "id": "Dh-leJnpfyjA",
    "outputId": "ac975728-ccf0-4c72-d48f-f41c3c891618"
   },
   "outputs": [
    {
     "name": "stdout",
     "output_type": "stream",
     "text": [
      "Minimum Volume Portfolio Weights: [0.03172452 0.00546005 0.0425072  0.20067603 0.20068519 0.13324582\n",
      " 0.08223869 0.19890777 0.04808006 0.03448032 0.02199434]\n",
      "Max Sharpe Portfolio Weights: [0.00984954 0.13513927 0.12667969 0.13041149 0.016487   0.01535758\n",
      " 0.01751823 0.21157932 0.17339008 0.03934036 0.12424745]\n"
     ]
    }
   ],
   "source": [
    "prets,pvols = mean_variace_optimizer(df_bb_return)\n",
    "min_vol_weights, max_sharpe_weights  = weight_calculation(df_bb_return, prets, pvols)"
   ]
  },
  {
   "cell_type": "code",
   "execution_count": 48,
   "metadata": {
    "id": "Jo9B1tzJfyjB",
    "outputId": "ea4c4db9-466a-4601-f750-39bf0e6799d1"
   },
   "outputs": [
    {
     "data": {
      "image/png": "[encoded data removed]",
      "text/plain": [
       "<Figure size 576x360 with 2 Axes>"
      ]
     },
     "metadata": {
      "needs_background": "light"
     },
     "output_type": "display_data"
    }
   ],
   "source": [
    "efficent_frontier_plot(prets, pvols)"
   ]
  },
  {
   "cell_type": "markdown",
   "metadata": {
    "id": "Jhz3K-HAfyjB"
   },
   "source": [
    "**No, none of the above portfolios outperform our best portfolio. The best portfolio in our case has the max Sharpe of 1.28 while the portfolios generated by LogReturns, MA strategy  and BB strategy have lower Sharpe of 0.62, 1.10 and 0.36 respectively.** "
   ]
  },
  {
   "cell_type": "markdown",
   "metadata": {
    "id": "CkGCeh00fyjB"
   },
   "source": [
    "### Summary Statistics for the Portfolio"
   ]
  },
  {
   "cell_type": "code",
   "execution_count": 49,
   "metadata": {
    "id": "1zx6NXUKfyjB",
    "outputId": "f90781fb-a94e-4751-d7a3-74ac944cffe8"
   },
   "outputs": [
    {
     "data": {
      "text/html": [
       "<style  type=\"text/css\" >\n",
       "</style><table id=\"T_66cbd_\" ><thead>    <tr>        <th class=\"blank level0\" ></th>        <th class=\"col_heading level0 col0\" >AAPL</th>        <th class=\"col_heading level0 col1\" >AMZN</th>        <th class=\"col_heading level0 col2\" >EUR</th>        <th class=\"col_heading level0 col3\" >SPY</th>        <th class=\"col_heading level0 col4\" >BOND</th>        <th class=\"col_heading level0 col5\" >ATT</th>        <th class=\"col_heading level0 col6\" >INTC</th>        <th class=\"col_heading level0 col7\" >GOLD</th>        <th class=\"col_heading level0 col8\" >Port</th>    </tr></thead><tbody>\n",
       "                <tr>\n",
       "                        <th id=\"T_66cbd_level0_row0\" class=\"row_heading level0 row0\" >Average Annual Return</th>\n",
       "                        <td id=\"T_66cbd_row0_col0\" class=\"data row0 col0\" >27.95%</td>\n",
       "                        <td id=\"T_66cbd_row0_col1\" class=\"data row0 col1\" >21.96%</td>\n",
       "                        <td id=\"T_66cbd_row0_col2\" class=\"data row0 col2\" >2.06%</td>\n",
       "                        <td id=\"T_66cbd_row0_col3\" class=\"data row0 col3\" >5.78%</td>\n",
       "                        <td id=\"T_66cbd_row0_col4\" class=\"data row0 col4\" >0.91%</td>\n",
       "                        <td id=\"T_66cbd_row0_col5\" class=\"data row0 col5\" >4.52%</td>\n",
       "                        <td id=\"T_66cbd_row0_col6\" class=\"data row0 col6\" >8.08%</td>\n",
       "                        <td id=\"T_66cbd_row0_col7\" class=\"data row0 col7\" >9.06%</td>\n",
       "                        <td id=\"T_66cbd_row0_col8\" class=\"data row0 col8\" >11.42%</td>\n",
       "            </tr>\n",
       "            <tr>\n",
       "                        <th id=\"T_66cbd_level0_row1\" class=\"row_heading level0 row1\" >Annual Risk</th>\n",
       "                        <td id=\"T_66cbd_row1_col0\" class=\"data row1 col0\" >27.45%</td>\n",
       "                        <td id=\"T_66cbd_row1_col1\" class=\"data row1 col1\" >33.10%</td>\n",
       "                        <td id=\"T_66cbd_row1_col2\" class=\"data row1 col2\" >7.16%</td>\n",
       "                        <td id=\"T_66cbd_row1_col3\" class=\"data row1 col3\" >10.63%</td>\n",
       "                        <td id=\"T_66cbd_row1_col4\" class=\"data row1 col4\" >2.94%</td>\n",
       "                        <td id=\"T_66cbd_row1_col5\" class=\"data row1 col5\" >19.25%</td>\n",
       "                        <td id=\"T_66cbd_row1_col6\" class=\"data row1 col6\" >25.56%</td>\n",
       "                        <td id=\"T_66cbd_row1_col7\" class=\"data row1 col7\" >17.92%</td>\n",
       "                        <td id=\"T_66cbd_row1_col8\" class=\"data row1 col8\" >8.96%</td>\n",
       "            </tr>\n",
       "            <tr>\n",
       "                        <th id=\"T_66cbd_level0_row2\" class=\"row_heading level0 row2\" >Sharpe Ratio</th>\n",
       "                        <td id=\"T_66cbd_row2_col0\" class=\"data row2 col0\" >1.018273</td>\n",
       "                        <td id=\"T_66cbd_row2_col1\" class=\"data row2 col1\" >0.663285</td>\n",
       "                        <td id=\"T_66cbd_row2_col2\" class=\"data row2 col2\" >0.288243</td>\n",
       "                        <td id=\"T_66cbd_row2_col3\" class=\"data row2 col3\" >0.543433</td>\n",
       "                        <td id=\"T_66cbd_row2_col4\" class=\"data row2 col4\" >0.308136</td>\n",
       "                        <td id=\"T_66cbd_row2_col5\" class=\"data row2 col5\" >0.234605</td>\n",
       "                        <td id=\"T_66cbd_row2_col6\" class=\"data row2 col6\" >0.316086</td>\n",
       "                        <td id=\"T_66cbd_row2_col7\" class=\"data row2 col7\" >0.505877</td>\n",
       "                        <td id=\"T_66cbd_row2_col8\" class=\"data row2 col8\" >1.275108</td>\n",
       "            </tr>\n",
       "            <tr>\n",
       "                        <th id=\"T_66cbd_level0_row3\" class=\"row_heading level0 row3\" >maxDD</th>\n",
       "                        <td id=\"T_66cbd_row3_col0\" class=\"data row3 col0\" >-56.05%</td>\n",
       "                        <td id=\"T_66cbd_row3_col1\" class=\"data row3 col1\" >-54.72%</td>\n",
       "                        <td id=\"T_66cbd_row3_col2\" class=\"data row3 col2\" >-22.97%</td>\n",
       "                        <td id=\"T_66cbd_row3_col3\" class=\"data row3 col3\" >-19.50%</td>\n",
       "                        <td id=\"T_66cbd_row3_col4\" class=\"data row3 col4\" >-9.13%</td>\n",
       "                        <td id=\"T_66cbd_row3_col5\" class=\"data row3 col5\" >-39.89%</td>\n",
       "                        <td id=\"T_66cbd_row3_col6\" class=\"data row3 col6\" >-45.75%</td>\n",
       "                        <td id=\"T_66cbd_row3_col7\" class=\"data row3 col7\" >-59.07%</td>\n",
       "                        <td id=\"T_66cbd_row3_col8\" class=\"data row3 col8\" >-21.56%</td>\n",
       "            </tr>\n",
       "            <tr>\n",
       "                        <th id=\"T_66cbd_level0_row4\" class=\"row_heading level0 row4\" >Success Ratio</th>\n",
       "                        <td id=\"T_66cbd_row4_col0\" class=\"data row4 col0\" >65.91%</td>\n",
       "                        <td id=\"T_66cbd_row4_col1\" class=\"data row4 col1\" >66.88%</td>\n",
       "                        <td id=\"T_66cbd_row4_col2\" class=\"data row4 col2\" >71.56%</td>\n",
       "                        <td id=\"T_66cbd_row4_col3\" class=\"data row4 col3\" >69.58%</td>\n",
       "                        <td id=\"T_66cbd_row4_col4\" class=\"data row4 col4\" >71.25%</td>\n",
       "                        <td id=\"T_66cbd_row4_col5\" class=\"data row4 col5\" >74.50%</td>\n",
       "                        <td id=\"T_66cbd_row4_col6\" class=\"data row4 col6\" >74.57%</td>\n",
       "                        <td id=\"T_66cbd_row4_col7\" class=\"data row4 col7\" >53.00%</td>\n",
       "                        <td id=\"T_66cbd_row4_col8\" class=\"data row4 col8\" >54.68%</td>\n",
       "            </tr>\n",
       "    </tbody></table>"
      ],
      "text/plain": [
       "<pandas.io.formats.style.Styler at 0x7f97689a96a0>"
      ]
     },
     "metadata": {},
     "output_type": "display_data"
    }
   ],
   "source": [
    "calc_summary_stats(df_portfolio)"
   ]
  },
  {
   "cell_type": "markdown",
   "metadata": {
    "id": "imPbsdXafyjB"
   },
   "source": [
    "- The Sharpe Ratio for our portfolio stands 1.28 which is higher than all other instruments. \n",
    "- The Average Annual Return for the constructed portfolio is 11.42% which is higher than all other instrument expect Apple and Amazon.\n",
    "- Since Apple, Amazon have a high positive correlation, this means that their respective prices tend to move in the same direction and therefore adding them to the portfolio would increase the level of systematic risk despite the sharpe increases.\n",
    "- Risk of our portfolio is low and similar to EUR while the Return is good leading to a higher Sharpe Ratio.\n",
    "- Though the Success Ratio is low we have a low risk and low max DD so this does not harm our portfolio."
   ]
  },
  {
   "cell_type": "markdown",
   "metadata": {},
   "source": [
    "**\"We pledge on our honor that we have not given nor received any unauthorized assistance on this assignment with other groups.\"**\n",
    "- Chi-Hao Tseng, Hanyu Li, Raghul Pandi, Shubhangkar Girish Jain, Tanvi Mehra."
   ]
  }
 ],
 "metadata": {
  "colab": {
   "collapsed_sections": [
    "u1ixJpFYfyi-",
    "dqwb4mqrfyi-",
    "IRkUdFP1fyi-",
    "U3wT7Vixfyi_",
    "P5dHRCiNfyi_",
    "R0ixNBC9fyjA",
    "x-cAkC1kfyjA",
    "I4a4j4IEfyjA",
    "CkGCeh00fyjB"
   ],
   "provenance": []
  },
  "kernelspec": {
   "display_name": "Python 3",
   "language": "python",
   "name": "python3"
  },
  "language_info": {
   "codemirror_mode": {
    "name": "ipython",
    "version": 3
   },
   "file_extension": ".py",
   "mimetype": "text/x-python",
   "name": "python",
   "nbconvert_exporter": "python",
   "pygments_lexer": "ipython3",
   "version": "3.8.8"
  },
  "vscode": {
   "interpreter": {
    "hash": "c6e4e9f98eb68ad3b7c296f83d20e6de614cb42e90992a65aa266555a3137d0d"
   }
  }
 },
 "nbformat": 4,
 "nbformat_minor": 4
}
